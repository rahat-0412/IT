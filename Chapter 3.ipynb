{
 "cells": [
  {
   "cell_type": "markdown",
   "id": "ad721ec5",
   "metadata": {},
   "source": [
    "# Conditional Steps"
   ]
  },
  {
   "cell_type": "code",
   "execution_count": 2,
   "id": "fab63031",
   "metadata": {},
   "outputs": [
    {
     "name": "stdout",
     "output_type": "stream",
     "text": [
      "Smaller\n",
      "Finish\n"
     ]
    }
   ],
   "source": [
    "# Declaring variable\n",
    "x = 5\n",
    "\n",
    "# Check if x is less than 10\n",
    "if x < 10:\n",
    "    # Printing\n",
    "    print('Smaller')\n",
    "\n",
    "# Check if x is greater than 20\n",
    "if x > 20:\n",
    "    # Printing output\n",
    "    print('Bigger')\n",
    "\n",
    "print('Finish')\n"
   ]
  },
  {
   "cell_type": "markdown",
   "id": "3a4cefbb",
   "metadata": {},
   "source": [
    "# Comparison Operators"
   ]
  },
  {
   "cell_type": "code",
   "execution_count": 4,
   "id": "753397f6",
   "metadata": {},
   "outputs": [
    {
     "name": "stdout",
     "output_type": "stream",
     "text": [
      "Equals 5\n",
      "Greater than 4\n",
      "Greater than or Equals 5\n",
      "Less than 6\n",
      "Less than or Equals 5\n",
      "Not equal 6\n"
     ]
    }
   ],
   "source": [
    "# Assign the value 5 to the variable 'x'\n",
    "x = 5\n",
    "\n",
    "# Check if 'x' is equal to 5\n",
    "if x == 5:\n",
    "    print('Equals 5')  # If 'x' is equal to 5, print 'Equals 5'\n",
    "\n",
    "# Check if 'x' is greater than 4\n",
    "if x > 4:\n",
    "    print('Greater than 4')  # If 'x' is greater than 4, print 'Greater than 4'\n",
    "\n",
    "# Check if 'x' is greater than or equal to 5\n",
    "if x >= 5:\n",
    "    print('Greater than or Equals 5')  # If 'x' is greater than or equal to 5, print 'Greater than or Equals 5'\n",
    "\n",
    "# Check if 'x' is less than 6\n",
    "if x < 6:\n",
    "    print('Less than 6')  # If 'x' is less than 6, print 'Less than 6'\n",
    "\n",
    "# Check if 'x' is less than or equal to 5\n",
    "if x <= 5:\n",
    "    print('Less than or Equals 5')  # If 'x' is less than or equal to 5, print 'Less than or Equals 5'\n",
    "\n",
    "# Check if 'x' is not equal to 6\n",
    "if x != 6:\n",
    "    print('Not equal 6')  # If 'x' is not equal to 6, print 'Not equal 6'\n"
   ]
  },
  {
   "cell_type": "markdown",
   "id": "1207761c",
   "metadata": {},
   "source": [
    "# One Way Decisions"
   ]
  },
  {
   "cell_type": "code",
   "execution_count": 6,
   "id": "9c982a22",
   "metadata": {},
   "outputs": [
    {
     "name": "stdout",
     "output_type": "stream",
     "text": [
      "Before 5\n",
      "Is 5\n",
      "Is Still 5\n",
      "Third 5\n",
      "Afterwards 5\n",
      "Before 6\n",
      "Afterwards 6\n"
     ]
    }
   ],
   "source": [
    "# Assign the value 5 to the variable 'x'\n",
    "x = 5\n",
    "\n",
    "print('Before 5')  # Print 'Before 5'\n",
    "\n",
    "# Check if 'x' is equal to 5\n",
    "if x == 5:\n",
    "    print('Is 5')  # If 'x' is 5, print 'Is 5'\n",
    "    print('Is Still 5')  # This line will always be executed because it's not indented\n",
    "    print('Third 5')  # This line will always be executed because it's not indented\n",
    "\n",
    "print('Afterwards 5')  # Print 'Afterwards 5'\n",
    "\n",
    "print('Before 6')  # Print 'Before 6'\n",
    "\n",
    "# Check if 'x' is equal to 6\n",
    "if x == 6:\n",
    "    print('Is 6')  # This block won't be executed because 'x' is not equal to 6\n",
    "    print('Is Still 6')  # This block won't be executed because 'x' is not equal to 6\n",
    "    print('Third 6')  # This block won't be executed because 'x' is not equal to 6\n",
    "\n",
    "print('Afterwards 6')  # Print 'Afterwards 6'\n"
   ]
  },
  {
   "cell_type": "markdown",
   "id": "a3d08f88",
   "metadata": {},
   "source": [
    "# Tabs"
   ]
  },
  {
   "cell_type": "code",
   "execution_count": 7,
   "id": "2166c5f4",
   "metadata": {},
   "outputs": [
    {
     "name": "stdout",
     "output_type": "stream",
     "text": [
      "Bigger than 2\n",
      "Still bigger\n",
      "Done with 2\n",
      "0\n",
      "1\n",
      "2\n",
      "3\n",
      "Bigger than 2\n",
      "Done with i 3\n",
      "4\n",
      "Bigger than 2\n",
      "Done with i 4\n",
      "All Done\n"
     ]
    }
   ],
   "source": [
    "# Assign the value 5 to the variable 'x'\n",
    "x = 5\n",
    "\n",
    "# Check if 'x' is greater than 2\n",
    "if x > 2:\n",
    "    print('Bigger than 2')  # If 'x' is greater than 2, print 'Bigger than 2'\n",
    "    print('Still bigger')   # This line is part of the if block, so it's also executed\n",
    "    print('Done with 2')    # This line is still part of the if block\n",
    "\n",
    "# Loop from 0 to 4 (5 times)\n",
    "for i in range(5):\n",
    "    print(i)  # Print the current value of 'i' in each iteration\n",
    "\n",
    "    # Check if 'i' is greater than 2 (Note: This check is outside the loop)\n",
    "    if i > 2:\n",
    "        print('Bigger than 2')     # If 'i' is greater than 2, print 'Bigger than 2'\n",
    "        print('Done with i', i)    # Print 'Done with i' followed by the value of 'i'\n",
    "\n",
    "print('All Done')  # Print 'All Done' (outside both if and for blocks)\n"
   ]
  },
  {
   "cell_type": "markdown",
   "id": "bce40c85",
   "metadata": {},
   "source": [
    "# Nested Decisions"
   ]
  },
  {
   "cell_type": "code",
   "execution_count": 8,
   "id": "8a5df7e0",
   "metadata": {},
   "outputs": [
    {
     "name": "stdout",
     "output_type": "stream",
     "text": [
      "More than one\n",
      "Less than 100\n",
      "All done\n"
     ]
    }
   ],
   "source": [
    "# Assign the value 42 to the variable 'x'\n",
    "x = 42\n",
    "\n",
    "# Check if 'x' is greater than 1\n",
    "if x > 1:\n",
    "    print('More than one')  # If 'x' is greater than 1, print 'More than one'\n",
    "\n",
    "    # Check if 'x' is less than 100 (Note: This check is inside the first 'if' block)\n",
    "    if x < 100:\n",
    "        print('Less than 100')  # If 'x' is less than 100, print 'Less than 100'\n",
    "\n",
    "# Print 'All done' (outside both 'if' blocks)\n",
    "print('All done')\n"
   ]
  },
  {
   "cell_type": "markdown",
   "id": "3f5379ab",
   "metadata": {},
   "source": [
    "# Two Way Decisions "
   ]
  },
  {
   "cell_type": "code",
   "execution_count": 9,
   "id": "9382fb88",
   "metadata": {},
   "outputs": [
    {
     "name": "stdout",
     "output_type": "stream",
     "text": [
      "Bigger\n",
      "All done\n"
     ]
    }
   ],
   "source": [
    "# Assign the value 4 to the variable 'x'\n",
    "x = 4\n",
    "\n",
    "# Check if 'x' is greater than 2\n",
    "if x > 2:\n",
    "    print('Bigger')  # If 'x' is greater than 2, print 'Bigger'\n",
    "else:\n",
    "    print('Smaller')  # If 'x' is not greater than 2 (i.e., it's less than or equal to 2), print 'Smaller'\n",
    "\n",
    "# Print 'All done' (outside the if-else block)\n",
    "print('All done')\n"
   ]
  },
  {
   "cell_type": "markdown",
   "id": "658cad7b",
   "metadata": {},
   "source": [
    "# Multiway Decisions"
   ]
  },
  {
   "cell_type": "code",
   "execution_count": 10,
   "id": "5bbff7da",
   "metadata": {},
   "outputs": [
    {
     "name": "stdout",
     "output_type": "stream",
     "text": [
      "Medium\n",
      "All done\n"
     ]
    }
   ],
   "source": [
    "# Assume the value of 'x' is defined elsewhere in your code\n",
    "# For the purpose of explanation, let's assume x = 5\n",
    "\n",
    "# Check if 'x' is less than 2\n",
    "if x < 2:\n",
    "    print('small')  # If 'x' is less than 2, print 'small'\n",
    "\n",
    "# If the condition in the first 'if' statement is not met, check the following 'elif' condition\n",
    "elif x < 10:\n",
    "    print('Medium')  # If 'x' is not less than 2 but is less than 10, print 'Medium'\n",
    "\n",
    "# If none of the above conditions are met, execute the 'else' block\n",
    "else:\n",
    "    print('LARGE')  # If 'x' is neither less than 2 nor less than 10, print 'LARGE'\n",
    "\n",
    "# Print 'All done' (outside the if-elif-else block)\n",
    "print('All done')\n"
   ]
  },
  {
   "cell_type": "code",
   "execution_count": 11,
   "id": "b40dd7fa",
   "metadata": {},
   "outputs": [
    {
     "name": "stdout",
     "output_type": "stream",
     "text": [
      "small\n",
      "All done\n"
     ]
    }
   ],
   "source": [
    "# Assign the value 0 to the variable 'x'\n",
    "x = 0\n",
    "\n",
    "# Check if 'x' is less than 2\n",
    "if x < 2:\n",
    "    print('small')  # If 'x' is less than 2, print 'small'\n",
    "\n",
    "# If the condition in the first 'if' statement is not met, check the following 'elif' condition\n",
    "elif x < 10:\n",
    "    print('Medium')  # If 'x' is not less than 2 but is less than 10, print 'Medium'\n",
    "\n",
    "# If none of the above conditions are met, execute the 'else' block\n",
    "else:\n",
    "    print('LARGE')  # If 'x' is neither less than 2 nor less than 10, print 'LARGE'\n",
    "\n",
    "# Print 'All done' (outside the if-elif-else block)\n",
    "print('All done')\n"
   ]
  },
  {
   "cell_type": "code",
   "execution_count": 12,
   "id": "451b89bd",
   "metadata": {},
   "outputs": [
    {
     "name": "stdout",
     "output_type": "stream",
     "text": [
      "Small\n"
     ]
    }
   ],
   "source": [
    "# Assume the value of 'x' is defined elsewhere in your code\n",
    "# For the purpose of explanation, let's assume x = 15\n",
    "\n",
    "# Check if 'x' is less than 2\n",
    "if x < 2:\n",
    "    print('Small')  # If 'x' is less than 2, print 'Small'\n",
    "\n",
    "# If the first condition is not met, check the following 'elif' condition\n",
    "elif x < 10:\n",
    "    print('Medium')  # If 'x' is not less than 2 but is less than 10, print 'Medium'\n",
    "\n",
    "# If the previous conditions are not met, check the next 'elif' condition\n",
    "elif x < 20:\n",
    "    print('Big')  # If 'x' is not less than 10 but is less than 20, print 'Big'\n",
    "\n",
    "# If the previous conditions are not met, check the next 'elif' condition\n",
    "elif x < 40:\n",
    "    print('Large')  # If 'x' is not less than 20 but is less than 40, print 'Large'\n",
    "\n",
    "# If the previous conditions are not met, check the next 'elif' condition\n",
    "elif x < 100:\n",
    "    print('Huge')  # If 'x' is not less than 40 but is less than 100, print 'Huge'\n",
    "\n",
    "# If none of the above conditions are met, execute the 'else' block\n",
    "else:\n",
    "    print('Ginormous')  # If 'x' is not less than 100, print 'Ginormous'\n"
   ]
  },
  {
   "cell_type": "markdown",
   "id": "989ea3ab",
   "metadata": {},
   "source": [
    "# Try and Except Structure"
   ]
  },
  {
   "cell_type": "code",
   "execution_count": 14,
   "id": "c09470aa",
   "metadata": {},
   "outputs": [
    {
     "name": "stdout",
     "output_type": "stream",
     "text": [
      "First -1\n",
      "Second 123\n"
     ]
    }
   ],
   "source": [
    "# Define a string variable 'astr' with the value 'Hello Bob'\n",
    "astr = 'Hello Bob'\n",
    "\n",
    "# Try to convert the string 'astr' to an integer\n",
    "try:\n",
    "    istr = int(astr)\n",
    "except:\n",
    "    # If an exception occurs during the conversion (e.g., ValueError), set 'istr' to -1\n",
    "    istr = -1\n",
    "\n",
    "# Print the result after the conversion or handling the exception\n",
    "print('First', istr)\n",
    "\n",
    "# Update the 'astr' variable with a new value '123'\n",
    "astr = '123'\n",
    "\n",
    "# Try to convert the string 'astr' (now '123') to an integer\n",
    "try:\n",
    "    istr = int(astr)\n",
    "except:\n",
    "    # If an exception occurs during the conversion (e.g., ValueError), set 'istr' to -1\n",
    "    istr = -1\n",
    "\n",
    "# Print the result after the conversion or handling the exception\n",
    "print('Second', istr)\n"
   ]
  },
  {
   "cell_type": "code",
   "execution_count": 15,
   "id": "8eca259c",
   "metadata": {},
   "outputs": [
    {
     "name": "stdout",
     "output_type": "stream",
     "text": [
      "Hello\n",
      "Done -1\n"
     ]
    }
   ],
   "source": [
    "# Define a string variable 'astr' with the value 'Bob'\n",
    "astr = 'Bob'\n",
    "\n",
    "# Try to execute the following code block\n",
    "try:\n",
    "    # Print 'Hello' to the console\n",
    "    print('Hello')\n",
    "\n",
    "    # Attempt to convert the string 'astr' ('Bob') to an integer\n",
    "    istr = int(astr)\n",
    "\n",
    "    # Print 'There' to the console (if the conversion is successful)\n",
    "    print('There')\n",
    "\n",
    "except:\n",
    "    # If an exception occurs during the conversion (e.g., ValueError), set 'istr' to -1\n",
    "    istr = -1\n",
    "\n",
    "# Regardless of whether an exception occurred or not, print 'Done' and the value of 'istr'\n",
    "print('Done', istr)\n"
   ]
  },
  {
   "cell_type": "code",
   "execution_count": 16,
   "id": "f05df112",
   "metadata": {},
   "outputs": [
    {
     "name": "stdout",
     "output_type": "stream",
     "text": [
      "Enter a number:123\n",
      "Nice work\n"
     ]
    }
   ],
   "source": [
    "# Prompt the user to enter a number and store the input as a string in 'rawstr'\n",
    "rawstr = input('Enter a number:')\n",
    "\n",
    "# Try to convert the string 'rawstr' to an integer\n",
    "try:\n",
    "    ival = int(rawstr)\n",
    "\n",
    "# If an exception occurs during the conversion (e.g., ValueError), set 'ival' to -1\n",
    "except:\n",
    "    ival = -1\n",
    "\n",
    "# Check if the converted integer 'ival' is greater than 0\n",
    "if ival > 0:\n",
    "    # If 'ival' is greater than 0, print 'Nice work'\n",
    "    print('Nice work')\n",
    "\n",
    "else:\n",
    "    # If 'ival' is not greater than 0 (including cases where it's -1 due to an exception),\n",
    "    # print 'Not a number'\n",
    "    print('Not a number')\n"
   ]
  }
 ],
 "metadata": {
  "kernelspec": {
   "display_name": "Python 3 (ipykernel)",
   "language": "python",
   "name": "python3"
  },
  "language_info": {
   "codemirror_mode": {
    "name": "ipython",
    "version": 3
   },
   "file_extension": ".py",
   "mimetype": "text/x-python",
   "name": "python",
   "nbconvert_exporter": "python",
   "pygments_lexer": "ipython3",
   "version": "3.11.4"
  }
 },
 "nbformat": 4,
 "nbformat_minor": 5
}
