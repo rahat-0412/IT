{
 "cells": [
  {
   "cell_type": "markdown",
   "id": "f087bcb4",
   "metadata": {},
   "source": [
    "# Functions"
   ]
  },
  {
   "cell_type": "code",
   "execution_count": 1,
   "id": "8c8de18f",
   "metadata": {},
   "outputs": [
    {
     "name": "stdout",
     "output_type": "stream",
     "text": [
      "Hello\n",
      "Fun\n",
      "Zip\n",
      "Hello\n",
      "Fun\n"
     ]
    }
   ],
   "source": [
    "# Define a function named 'thing'\n",
    "def thing():\n",
    "    # Inside the function, print 'Hello' to the console\n",
    "    print('Hello')\n",
    "\n",
    "    # Inside the function, print 'Fun' to the console\n",
    "    print('Fun')\n",
    "\n",
    "# Call the 'thing()' function for the first time\n",
    "thing()\n",
    "\n",
    "# Print 'Zip' to the console\n",
    "print('Zip')\n",
    "\n",
    "# Call the 'thing()' function for the second time\n",
    "thing()\n"
   ]
  },
  {
   "cell_type": "markdown",
   "id": "456b8bd5",
   "metadata": {},
   "source": [
    "# Max,Min"
   ]
  },
  {
   "cell_type": "code",
   "execution_count": 2,
   "id": "3f46b98e",
   "metadata": {},
   "outputs": [
    {
     "name": "stdout",
     "output_type": "stream",
     "text": [
      "w\n",
      " \n"
     ]
    }
   ],
   "source": [
    "# Find the maximum character in the string 'Hello world' and assign it to the variable 'big'\n",
    "big = max('Hello world')\n",
    "\n",
    "# Print the maximum character (in this case, 'w') to the console\n",
    "print(big)\n",
    "\n",
    "# Find the minimum character in the string 'Hello world' and assign it to the variable 'tiny'\n",
    "tiny = min('Hello world')\n",
    "\n",
    "# Print the minimum character (in this case, ' ') to the console\n",
    "print(tiny)\n"
   ]
  },
  {
   "cell_type": "markdown",
   "id": "a784a437",
   "metadata": {},
   "source": [
    "# Type Conversions"
   ]
  },
  {
   "cell_type": "code",
   "execution_count": 3,
   "id": "dd39d0c1",
   "metadata": {},
   "outputs": [
    {
     "name": "stdout",
     "output_type": "stream",
     "text": [
      "0.99\n",
      "42.0\n",
      "-2.5\n"
     ]
    }
   ],
   "source": [
    "# Calculate the result of float(99) / 100 and print it\n",
    "print(float(99) / 100)  # Result: 0.99\n",
    "\n",
    "# Create an integer variable 'i' with the value 42\n",
    "i = 42\n",
    "\n",
    "# Check the data type of 'i'\n",
    "type(i)  # Result: <class 'int'>\n",
    "\n",
    "# Convert the integer 'i' to a floating-point number and store it in variable 'f'\n",
    "f = float(i)\n",
    "\n",
    "# Print the value of 'f'\n",
    "print(f)  # Result: 42.0\n",
    "\n",
    "# Check the data type of 'f'\n",
    "type(f)  # Result: <class 'float'>\n",
    "\n",
    "# Evaluate the expression 1 + 2 * float(3) / 4 - 5 and print the result\n",
    "print(1 + 2 * float(3) / 4 - 5)  # Result: -2.5\n"
   ]
  },
  {
   "cell_type": "markdown",
   "id": "e6c3d68e",
   "metadata": {},
   "source": [
    "# String Conversions"
   ]
  },
  {
   "cell_type": "code",
   "execution_count": 4,
   "id": "2d791cc1",
   "metadata": {},
   "outputs": [
    {
     "ename": "TypeError",
     "evalue": "can only concatenate str (not \"int\") to str",
     "output_type": "error",
     "traceback": [
      "\u001b[1;31m---------------------------------------------------------------------------\u001b[0m",
      "\u001b[1;31mTypeError\u001b[0m                                 Traceback (most recent call last)",
      "Cell \u001b[1;32mIn[4], line 8\u001b[0m\n\u001b[0;32m      5\u001b[0m \u001b[38;5;28mtype\u001b[39m(sval)  \u001b[38;5;66;03m# Result: <class 'str'>\u001b[39;00m\n\u001b[0;32m      7\u001b[0m \u001b[38;5;66;03m# Attempt to print 'sval + 1' - This will raise a TypeError because you can't concatenate a string with an integer using '+'\u001b[39;00m\n\u001b[1;32m----> 8\u001b[0m \u001b[38;5;28mprint\u001b[39m(sval \u001b[38;5;241m+\u001b[39m \u001b[38;5;241m1\u001b[39m)  \u001b[38;5;66;03m# Error: TypeError\u001b[39;00m\n\u001b[0;32m     10\u001b[0m \u001b[38;5;66;03m# Convert the string 'sval' to an integer and store it in 'ival'\u001b[39;00m\n\u001b[0;32m     11\u001b[0m ival \u001b[38;5;241m=\u001b[39m \u001b[38;5;28mint\u001b[39m(sval)\n",
      "\u001b[1;31mTypeError\u001b[0m: can only concatenate str (not \"int\") to str"
     ]
    }
   ],
   "source": [
    "# Define a string variable 'sval' with the value '123'\n",
    "sval = '123'\n",
    "\n",
    "# Check the data type of 'sval'\n",
    "type(sval)  # Result: <class 'str'>\n",
    "\n",
    "# Attempt to print 'sval + 1' - This will raise a TypeError because you can't concatenate a string with an integer using '+'\n",
    "print(sval + 1)  # Error: TypeError\n",
    "\n",
    "# Convert the string 'sval' to an integer and store it in 'ival'\n",
    "ival = int(sval)\n",
    "\n",
    "# Check the data type of 'ival'\n",
    "type(ival)  # Result: <class 'int'>\n",
    "\n",
    "# Print 'ival + 1', which correctly adds 1 to the integer value of 'ival'\n",
    "print(ival + 1)  # Result: 124\n",
    "\n",
    "# Define a string variable 'nsv' with the value 'hello bob'\n",
    "nsv = 'hello bob'\n",
    "\n",
    "# Attempt to convert the string 'nsv' to an integer - This will raise a ValueError because 'hello bob' cannot be converted to an integer\n",
    "niv = int(nsv)  # Error: ValueError\n"
   ]
  },
  {
   "cell_type": "markdown",
   "id": "b9374119",
   "metadata": {},
   "source": [
    "# Own Functions"
   ]
  },
  {
   "cell_type": "code",
   "execution_count": 5,
   "id": "a925a2b2",
   "metadata": {},
   "outputs": [
    {
     "name": "stdout",
     "output_type": "stream",
     "text": [
      "Hello\n",
      "Yo\n",
      "7\n"
     ]
    }
   ],
   "source": [
    "# Define a variable 'x' and assign it the value 5\n",
    "x = 5\n",
    "\n",
    "# Print 'Hello' to the console\n",
    "print('Hello')\n",
    "\n",
    "# Define a function named 'print_lyrics'\n",
    "def print_lyrics():\n",
    "    # Inside the function, print the lyrics to \"I'm a Lumberjack, and I'm Okay\"\n",
    "    print(\"I'm a lumberjack, and I'm okay.\")\n",
    "    print('I sleep all night and I work all day.')\n",
    "\n",
    "# Print 'Yo' to the console\n",
    "print('Yo')\n",
    "\n",
    "# Update the value of 'x' by adding 2 to its current value\n",
    "x = x + 2\n",
    "\n",
    "# Print the updated value of 'x' (which is now 7)\n",
    "print(x)\n"
   ]
  },
  {
   "cell_type": "code",
   "execution_count": 6,
   "id": "24944b56",
   "metadata": {},
   "outputs": [
    {
     "name": "stdout",
     "output_type": "stream",
     "text": [
      "Hello\n",
      "Yo\n",
      "I'm a lumberjack, and I'm okay.\n",
      "I sleep all night and I work all day.\n",
      "7\n"
     ]
    }
   ],
   "source": [
    "# Define a variable 'x' and assign it the value 5\n",
    "x = 5\n",
    "\n",
    "# Print 'Hello' to the console\n",
    "print('Hello')\n",
    "\n",
    "# Define a function named 'print_lyrics'\n",
    "def print_lyrics():\n",
    "    # Inside the function, print the lyrics to \"I'm a Lumberjack, and I'm Okay\"\n",
    "    print(\"I'm a lumberjack, and I'm okay.\")\n",
    "    print('I sleep all night and I work all day.')\n",
    "\n",
    "# Print 'Yo' to the console\n",
    "print('Yo')\n",
    "\n",
    "# Call the 'print_lyrics()' function, which will print the lumberjack lyrics\n",
    "print_lyrics()\n",
    "\n",
    "# Update the value of 'x' by adding 2 to its current value\n",
    "x = x + 2\n",
    "\n",
    "# Print the updated value of 'x' (which is now 7)\n",
    "print(x)\n"
   ]
  },
  {
   "cell_type": "markdown",
   "id": "d9a30cd2",
   "metadata": {},
   "source": [
    "# Parameters"
   ]
  },
  {
   "cell_type": "code",
   "execution_count": 7,
   "id": "5f4b2c72",
   "metadata": {},
   "outputs": [
    {
     "name": "stdout",
     "output_type": "stream",
     "text": [
      "Hello\n",
      "Hola\n",
      "Bonjour\n"
     ]
    }
   ],
   "source": [
    "# Define a function named 'greet' that takes a 'lang' parameter\n",
    "def greet(lang):\n",
    "    # Check the value of 'lang' using conditional statements\n",
    "    if lang == 'es':\n",
    "        # If 'lang' is 'es' (Spanish), print 'Hola'\n",
    "        print('Hola')\n",
    "    elif lang == 'fr':\n",
    "        # If 'lang' is 'fr' (French), print 'Bonjour'\n",
    "        print('Bonjour')\n",
    "    else:\n",
    "        # For any other value of 'lang', print 'Hello'\n",
    "        print('Hello')\n",
    "\n",
    "# Call the 'greet' function with different language codes\n",
    "greet('en')  # This will print 'Hello'\n",
    "greet('es')  # This will print 'Hola'\n",
    "greet('fr')  # This will print 'Bonjour'\n"
   ]
  },
  {
   "cell_type": "markdown",
   "id": "d64f3c7d",
   "metadata": {},
   "source": [
    "# Returns value"
   ]
  },
  {
   "cell_type": "code",
   "execution_count": 8,
   "id": "39c86f8a",
   "metadata": {},
   "outputs": [
    {
     "name": "stdout",
     "output_type": "stream",
     "text": [
      "Hello Glenn\n",
      "Hello Sally\n"
     ]
    }
   ],
   "source": [
    "# Define a function named 'greet' without any parameters\n",
    "def greet():\n",
    "    # Return the string \"Hello\" when the function is called\n",
    "    return \"Hello\"\n",
    "\n",
    "# Call the 'greet' function and print the result with names as arguments\n",
    "print(greet(), \"Glenn\")  # This will print \"Hello Glenn\"\n",
    "print(greet(), \"Sally\")  # This will print \"Hello Sally\"\n"
   ]
  },
  {
   "cell_type": "code",
   "execution_count": 9,
   "id": "3bdb47bc",
   "metadata": {},
   "outputs": [
    {
     "name": "stdout",
     "output_type": "stream",
     "text": [
      "Hello Glenn\n",
      "Hola Sally\n",
      "Bonjour Michael\n"
     ]
    }
   ],
   "source": [
    "# Define a function named 'greet' that takes a 'lang' parameter\n",
    "def greet(lang):\n",
    "    # Check the value of 'lang' using conditional statements\n",
    "    if lang == 'es':\n",
    "        # If 'lang' is 'es' (Spanish), return 'Hola'\n",
    "        return 'Hola'\n",
    "    elif lang == 'fr':\n",
    "        # If 'lang' is 'fr' (French), return 'Bonjour'\n",
    "        return 'Bonjour'\n",
    "    else:\n",
    "        # For any other value of 'lang', return 'Hello'\n",
    "        return 'Hello'\n",
    "\n",
    "# Call the 'greet' function with different language codes and names as arguments\n",
    "print(greet('en'), 'Glenn')     # This will print \"Hello Glenn\"\n",
    "print(greet('es'), 'Sally')    # This will print \"Hola Sally\"\n",
    "print(greet('fr'), 'Michael')  # This will print \"Bonjour Michael\"\n"
   ]
  },
  {
   "cell_type": "markdown",
   "id": "1ce29160",
   "metadata": {},
   "source": [
    "# Multiple Parameters"
   ]
  },
  {
   "cell_type": "code",
   "execution_count": 11,
   "id": "30342e83",
   "metadata": {},
   "outputs": [
    {
     "name": "stdout",
     "output_type": "stream",
     "text": [
      "8\n"
     ]
    }
   ],
   "source": [
    "# Define a function named 'addtwo' that takes two parameters, 'a' and 'b'\n",
    "def addtwo(a, b):\n",
    "    # Calculate the sum of 'a' and 'b' and store it in 'added'\n",
    "    added = a + b\n",
    "    \n",
    "    # Return the value of 'added'\n",
    "    return added\n",
    "\n",
    "# Call the 'addtwo' function with arguments 3 and 5 and assign the result to 'x'\n",
    "x = addtwo(3, 5)\n",
    "\n",
    "# Print the value of 'x' (which is the result of adding 3 and 5)\n",
    "print(x)  # This will print \"8\"\n"
   ]
  }
 ],
 "metadata": {
  "kernelspec": {
   "display_name": "Python 3 (ipykernel)",
   "language": "python",
   "name": "python3"
  },
  "language_info": {
   "codemirror_mode": {
    "name": "ipython",
    "version": 3
   },
   "file_extension": ".py",
   "mimetype": "text/x-python",
   "name": "python",
   "nbconvert_exporter": "python",
   "pygments_lexer": "ipython3",
   "version": "3.11.4"
  }
 },
 "nbformat": 4,
 "nbformat_minor": 5
}
