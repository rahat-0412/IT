{
 "cells": [
  {
   "cell_type": "markdown",
   "id": "d186242c",
   "metadata": {},
   "source": [
    "# String Data Type"
   ]
  },
  {
   "cell_type": "code",
   "execution_count": 2,
   "id": "f5d27c66",
   "metadata": {},
   "outputs": [
    {
     "name": "stdout",
     "output_type": "stream",
     "text": [
      "Hellothere\n",
      "124\n"
     ]
    }
   ],
   "source": [
    "# Define two string variables, str1 and str2\n",
    "str1 = \"Hello\"\n",
    "str2 = 'there'\n",
    "\n",
    "# Concatenate str1 and str2 and store the result in 'bob'\n",
    "bob = str1 + str2\n",
    "\n",
    "# Print the concatenated string 'bob'\n",
    "print(bob)  # Output: Hellothere\n",
    "\n",
    "# Define a string variable str3 with the value '123'\n",
    "str3 = '123'\n",
    "\n",
    "# Convert str3 to an integer and add 1 to it, then store the result in 'x'\n",
    "x = int(str3) + 1\n",
    "\n",
    "# Print the value of 'x'\n",
    "print(x)  # Output: 124\n"
   ]
  },
  {
   "cell_type": "markdown",
   "id": "3626e6e2",
   "metadata": {},
   "source": [
    "# Reading and Converting"
   ]
  },
  {
   "cell_type": "code",
   "execution_count": 3,
   "id": "f3bd4417",
   "metadata": {},
   "outputs": [
    {
     "ename": "SyntaxError",
     "evalue": "invalid character '–' (U+2013) (2937546204.py, line 9)",
     "output_type": "error",
     "traceback": [
      "\u001b[1;36m  Cell \u001b[1;32mIn[3], line 9\u001b[1;36m\u001b[0m\n\u001b[1;33m    x = apple – 10  # This line has a typo and incorrect subtraction\u001b[0m\n\u001b[1;37m              ^\u001b[0m\n\u001b[1;31mSyntaxError\u001b[0m\u001b[1;31m:\u001b[0m invalid character '–' (U+2013)\n"
     ]
    }
   ],
   "source": [
    "# Prompt the user for input and store it in the variable 'name'\n",
    "name = input('Enter:')\n",
    "# Print the value stored in 'name'\n",
    "print(name)\n",
    "\n",
    "# Prompt the user for input and store it in the variable 'apple'\n",
    "apple = input('Enter:')\n",
    "# Attempt to subtract 10 from 'apple', but it results in a TypeError\n",
    "x = apple – 10  # This line has a typo and incorrect subtraction\n",
    "print(x)\n"
   ]
  },
  {
   "cell_type": "code",
   "execution_count": 5,
   "id": "9f4b4284",
   "metadata": {},
   "outputs": [
    {
     "name": "stdout",
     "output_type": "stream",
     "text": [
      "Enter:123\n",
      "123\n",
      "Enter:12\n",
      "2\n"
     ]
    }
   ],
   "source": [
    "# Prompt the user for input and store it in the variable 'name'\n",
    "name = input('Enter:')\n",
    "# Print the value stored in 'name'\n",
    "print(name)\n",
    "\n",
    "# Prompt the user for input and store it in the variable 'apple'\n",
    "apple = input('Enter:')\n",
    "# Convert 'apple' to an integer, then subtract 10, and store the result in 'x'\n",
    "x = int(apple) - 10\n",
    "# Print the value stored in 'x'\n",
    "print(x)\n"
   ]
  },
  {
   "cell_type": "markdown",
   "id": "d1ccfcfc",
   "metadata": {},
   "source": [
    "# Looking inside Strings"
   ]
  },
  {
   "cell_type": "code",
   "execution_count": 6,
   "id": "023ee31f",
   "metadata": {},
   "outputs": [
    {
     "name": "stdout",
     "output_type": "stream",
     "text": [
      "a\n",
      "n\n"
     ]
    }
   ],
   "source": [
    "# Define a string variable 'fruit' with the value 'banana'\n",
    "fruit = 'banana'\n",
    "\n",
    "# Access the character at index 1 (the second character) in the string 'fruit'\n",
    "letter = fruit[1]\n",
    "\n",
    "# Print the character stored in the variable 'letter'\n",
    "print(letter)  # Output: 'a'\n",
    "\n",
    "# Define an integer variable 'x' with the value 3\n",
    "x = 3\n",
    "\n",
    "# Calculate 'x - 1' (2) and use it as an index to access the character in 'fruit'\n",
    "w = fruit[x - 1]\n",
    "\n",
    "# Print the character stored in the variable 'w'\n",
    "print(w)  # Output: 'n'\n"
   ]
  },
  {
   "cell_type": "markdown",
   "id": "dc921731",
   "metadata": {},
   "source": [
    "# Length of Strings"
   ]
  },
  {
   "cell_type": "code",
   "execution_count": 7,
   "id": "97ece109",
   "metadata": {},
   "outputs": [
    {
     "name": "stdout",
     "output_type": "stream",
     "text": [
      "6\n"
     ]
    }
   ],
   "source": [
    "# Define a string variable 'fruit' with the value 'banana'\n",
    "fruit = 'banana'\n",
    "\n",
    "# Use the len() function to find the length of the string in 'fruit'\n",
    "# The len() function returns the number of characters in the string\n",
    "# In this case, it will return 6, as 'banana' has 6 characters\n",
    "print(len(fruit))  # Output: 6\n"
   ]
  },
  {
   "cell_type": "markdown",
   "id": "c837091c",
   "metadata": {},
   "source": [
    "# Len with Function"
   ]
  },
  {
   "cell_type": "code",
   "execution_count": 8,
   "id": "23b5c387",
   "metadata": {},
   "outputs": [
    {
     "name": "stdout",
     "output_type": "stream",
     "text": [
      "6\n"
     ]
    }
   ],
   "source": [
    "# Define a string variable 'fruit' with the value 'banana'\n",
    "fruit = 'banana'\n",
    "\n",
    "# Use the len() function to find the length of the string in 'fruit'\n",
    "# The len() function returns the number of characters in the string\n",
    "x = len(fruit)\n",
    "\n",
    "# Print the value of 'x', which is the length of the string 'banana'\n",
    "print(x)  # Output: 6\n"
   ]
  },
  {
   "cell_type": "markdown",
   "id": "783fb301",
   "metadata": {},
   "source": [
    "# Looping through Strings"
   ]
  },
  {
   "cell_type": "code",
   "execution_count": 9,
   "id": "0e49c9ad",
   "metadata": {},
   "outputs": [
    {
     "name": "stdout",
     "output_type": "stream",
     "text": [
      "0 b\n",
      "1 a\n",
      "2 n\n",
      "3 a\n",
      "4 n\n",
      "5 a\n"
     ]
    }
   ],
   "source": [
    "# Define a string variable 'fruit' with the value 'banana'\n",
    "fruit = 'banana'\n",
    "\n",
    "# Initialize an index variable 'index' to 0\n",
    "index = 0\n",
    "\n",
    "# Start a 'while' loop that continues as long as 'index' is less than the length of 'fruit'\n",
    "while index < len(fruit):\n",
    "    # Access the character at the current 'index' position in 'fruit' and store it in 'letter'\n",
    "    letter = fruit[index]\n",
    "    \n",
    "    # Print the current 'index' and the 'letter' at that position\n",
    "    print(index, letter)\n",
    "    \n",
    "    # Increment 'index' by 1 to move to the next character in 'fruit'\n",
    "    index = index + 1\n"
   ]
  },
  {
   "cell_type": "markdown",
   "id": "1a319946",
   "metadata": {},
   "source": [
    "# Looping and Counting"
   ]
  },
  {
   "cell_type": "code",
   "execution_count": 10,
   "id": "5c3e3db7",
   "metadata": {},
   "outputs": [
    {
     "name": "stdout",
     "output_type": "stream",
     "text": [
      "3\n"
     ]
    }
   ],
   "source": [
    "# Define a string variable 'word' with the value 'banana'\n",
    "word = 'banana'\n",
    "\n",
    "# Initialize a count variable 'count' to 0\n",
    "count = 0\n",
    "\n",
    "# Start a 'for' loop that iterates through each character (letter) in the string 'word'\n",
    "for letter in word:\n",
    "    # Check if the current 'letter' is equal to 'a'\n",
    "    if letter == 'a':\n",
    "        # If it is, increment the 'count' by 1 to keep track of the number of 'a's\n",
    "        count = count + 1\n",
    "\n",
    "# Print the final value of 'count' after the loop completes\n",
    "print(count)\n"
   ]
  },
  {
   "cell_type": "markdown",
   "id": "e1667bac",
   "metadata": {},
   "source": [
    "# Slicing Strings"
   ]
  },
  {
   "cell_type": "code",
   "execution_count": 11,
   "id": "e4e636ad",
   "metadata": {},
   "outputs": [
    {
     "name": "stdout",
     "output_type": "stream",
     "text": [
      "Mont\n",
      "P\n",
      "Python\n"
     ]
    }
   ],
   "source": [
    "# Define a string variable 's' with the value 'Monty Python'\n",
    "s = 'Monty Python'\n",
    "\n",
    "# Print a slice of 's' from index 0 (inclusive) to index 4 (exclusive)\n",
    "# This slice includes characters from index 0 up to, but not including, index 4\n",
    "print(s[0:4])  # Output: 'Mont'\n",
    "\n",
    "# Print a slice of 's' from index 6 (inclusive) to index 7 (exclusive)\n",
    "# This slice includes the character at index 6\n",
    "print(s[6:7])  # Output: 'P'\n",
    "\n",
    "# Print a slice of 's' from index 6 (inclusive) to index 20 (exclusive)\n",
    "# Since the string 's' does not have an index 20, it will extend to the end of the string\n",
    "# This slice includes characters from index 6 to the end of the string\n",
    "print(s[6:20])  # Output: 'Python'\n"
   ]
  },
  {
   "cell_type": "code",
   "execution_count": 12,
   "id": "82605026",
   "metadata": {},
   "outputs": [
    {
     "name": "stdout",
     "output_type": "stream",
     "text": [
      "Mo\n",
      "thon\n",
      "Monty Python\n"
     ]
    }
   ],
   "source": [
    "# Define a string variable 's' with the value 'Monty Python'\n",
    "s = 'Monty Python'\n",
    "\n",
    "# Print a slice of 's' from the beginning to index 2 (exclusive)\n",
    "# This slice includes characters from the beginning of the string up to, but not including, index 2\n",
    "print(s[:2])  # Output: 'Mo'\n",
    "\n",
    "# Print a slice of 's' from index 8 to the end\n",
    "# This slice includes characters from index 8 to the end of the string\n",
    "print(s[8:])  # Output: 'thon'\n",
    "\n",
    "# Print a slice of 's' that includes the entire string (a copy of 's')\n",
    "# This is achieved by using a full slice with no start or end indices\n",
    "print(s[:])  # Output: 'Monty Python'\n"
   ]
  },
  {
   "cell_type": "markdown",
   "id": "2b43dc88",
   "metadata": {},
   "source": [
    "# Concentration"
   ]
  },
  {
   "cell_type": "code",
   "execution_count": 13,
   "id": "b9acdea5",
   "metadata": {},
   "outputs": [
    {
     "name": "stdout",
     "output_type": "stream",
     "text": [
      "HelloThere\n",
      "Hello There\n"
     ]
    }
   ],
   "source": [
    "# Define a string variable 'a' with the value 'Hello'\n",
    "a = 'Hello'\n",
    "\n",
    "# Concatenate 'a' with the string 'There' and store the result in 'b'\n",
    "b = a + 'There'\n",
    "\n",
    "# Print the value stored in 'b'\n",
    "print(b)  # Output: 'HelloThere'\n",
    "\n",
    "# Concatenate 'a' with a space (' ') and 'There', and store the result in 'c'\n",
    "c = a + ' ' + 'There'\n",
    "\n",
    "# Print the value stored in 'c'\n",
    "print(c)  # Output: 'Hello There'\n"
   ]
  },
  {
   "cell_type": "markdown",
   "id": "919a80e8",
   "metadata": {},
   "source": [
    "# Using IN "
   ]
  },
  {
   "cell_type": "code",
   "execution_count": 14,
   "id": "1f5a8b7c",
   "metadata": {},
   "outputs": [
    {
     "name": "stdout",
     "output_type": "stream",
     "text": [
      "True\n",
      "False\n",
      "True\n",
      "Found it!\n"
     ]
    }
   ],
   "source": [
    "# Define a string variable 'fruit' with the value 'banana'\n",
    "fruit = 'banana'\n",
    "\n",
    "# Check if the character 'n' is in the string 'fruit'\n",
    "# This expression evaluates to True because 'n' is present in 'banana'\n",
    "print('n' in fruit)  # Output: True\n",
    "\n",
    "# Check if the character 'm' is in the string 'fruit'\n",
    "# This expression evaluates to False because 'm' is not present in 'banana'\n",
    "print('m' in fruit)  # Output: False\n",
    "\n",
    "# Check if the substring 'nan' is in the string 'fruit'\n",
    "# This expression evaluates to True because 'nan' is present in 'banana'\n",
    "print('nan' in fruit)  # Output: True\n",
    "\n",
    "# Use a conditional statement to check if the character 'a' is in the string 'fruit'\n",
    "# If 'a' is present, it prints 'Found it!'\n",
    "if 'a' in fruit:\n",
    "    print('Found it!')\n"
   ]
  },
  {
   "cell_type": "markdown",
   "id": "6d938a3e",
   "metadata": {},
   "source": [
    "# Comparison"
   ]
  },
  {
   "cell_type": "code",
   "execution_count": 15,
   "id": "efc46a83",
   "metadata": {},
   "outputs": [
    {
     "name": "stdout",
     "output_type": "stream",
     "text": [
      "All right, bananas.\n",
      "All right, bananas.\n"
     ]
    }
   ],
   "source": [
    "# Assume 'word' is a variable containing a string value\n",
    "\n",
    "# Check if 'word' is equal to 'banana'\n",
    "if word == 'banana':\n",
    "    print('All right, bananas.')\n",
    "\n",
    "# Check if 'word' comes before 'banana' lexicographically\n",
    "# Note that the comparison is based on the order of characters in the Unicode table\n",
    "if word < 'banana':\n",
    "    print('Your word, ' + word + ', comes before banana.')\n",
    "\n",
    "# Check if 'word' comes after 'banana' lexicographically\n",
    "# Similarly, this comparison is based on the order of characters in the Unicode table\n",
    "elif word > 'banana':\n",
    "    print('Your word, ' + word + ', comes after banana.')\n",
    "\n",
    "# If 'word' is equal to 'banana' (first condition) or none of the above conditions match,\n",
    "# then this block will execute.\n",
    "else:\n",
    "    print('All right, bananas.')\n"
   ]
  },
  {
   "cell_type": "markdown",
   "id": "cfc3cde5",
   "metadata": {},
   "source": [
    "# String Library"
   ]
  },
  {
   "cell_type": "code",
   "execution_count": 16,
   "id": "fdc215cd",
   "metadata": {},
   "outputs": [
    {
     "name": "stdout",
     "output_type": "stream",
     "text": [
      "hello bob\n",
      "Hello Bob\n",
      "hi there\n"
     ]
    }
   ],
   "source": [
    "# Define a string variable 'greet' with the value 'Hello Bob'\n",
    "greet = 'Hello Bob'\n",
    "\n",
    "# Use the 'lower()' method to convert all characters in 'greet' to lowercase\n",
    "# The result is stored in the variable 'zap'\n",
    "zap = greet.lower()\n",
    "\n",
    "# Print the value stored in 'zap', which is 'hello bob'\n",
    "print(zap)  # Output: 'hello bob'\n",
    "\n",
    "# 'greet' remains unchanged; it still contains the original value 'Hello Bob'\n",
    "print(greet)  # Output: 'Hello Bob'\n",
    "\n",
    "# Use the 'lower()' method directly on the string 'Hi There'\n",
    "# This converts all characters in 'Hi There' to lowercase\n",
    "# It is not stored in a variable, so it's printed immediately\n",
    "print('Hi There'.lower())  # Output: 'hi there'\n"
   ]
  },
  {
   "cell_type": "code",
   "execution_count": 18,
   "id": "b5d5c44a",
   "metadata": {},
   "outputs": [
    {
     "name": "stdout",
     "output_type": "stream",
     "text": [
      "<class 'str'>\n"
     ]
    },
    {
     "data": {
      "text/plain": [
       "['__add__',\n",
       " '__class__',\n",
       " '__contains__',\n",
       " '__delattr__',\n",
       " '__dir__',\n",
       " '__doc__',\n",
       " '__eq__',\n",
       " '__format__',\n",
       " '__ge__',\n",
       " '__getattribute__',\n",
       " '__getitem__',\n",
       " '__getnewargs__',\n",
       " '__getstate__',\n",
       " '__gt__',\n",
       " '__hash__',\n",
       " '__init__',\n",
       " '__init_subclass__',\n",
       " '__iter__',\n",
       " '__le__',\n",
       " '__len__',\n",
       " '__lt__',\n",
       " '__mod__',\n",
       " '__mul__',\n",
       " '__ne__',\n",
       " '__new__',\n",
       " '__reduce__',\n",
       " '__reduce_ex__',\n",
       " '__repr__',\n",
       " '__rmod__',\n",
       " '__rmul__',\n",
       " '__setattr__',\n",
       " '__sizeof__',\n",
       " '__str__',\n",
       " '__subclasshook__',\n",
       " 'capitalize',\n",
       " 'casefold',\n",
       " 'center',\n",
       " 'count',\n",
       " 'encode',\n",
       " 'endswith',\n",
       " 'expandtabs',\n",
       " 'find',\n",
       " 'format',\n",
       " 'format_map',\n",
       " 'index',\n",
       " 'isalnum',\n",
       " 'isalpha',\n",
       " 'isascii',\n",
       " 'isdecimal',\n",
       " 'isdigit',\n",
       " 'isidentifier',\n",
       " 'islower',\n",
       " 'isnumeric',\n",
       " 'isprintable',\n",
       " 'isspace',\n",
       " 'istitle',\n",
       " 'isupper',\n",
       " 'join',\n",
       " 'ljust',\n",
       " 'lower',\n",
       " 'lstrip',\n",
       " 'maketrans',\n",
       " 'partition',\n",
       " 'removeprefix',\n",
       " 'removesuffix',\n",
       " 'replace',\n",
       " 'rfind',\n",
       " 'rindex',\n",
       " 'rjust',\n",
       " 'rpartition',\n",
       " 'rsplit',\n",
       " 'rstrip',\n",
       " 'split',\n",
       " 'splitlines',\n",
       " 'startswith',\n",
       " 'strip',\n",
       " 'swapcase',\n",
       " 'title',\n",
       " 'translate',\n",
       " 'upper',\n",
       " 'zfill']"
      ]
     },
     "execution_count": 18,
     "metadata": {},
     "output_type": "execute_result"
    }
   ],
   "source": [
    "# Define a string variable 'stuff' with the value 'Hello world'\n",
    "stuff = 'Hello world'\n",
    "\n",
    "# Use the 'type()' function to determine the data type of 'stuff'\n",
    "# In this case, it's a string (str)\n",
    "print(type(stuff))  # Output: <class 'str'>\n",
    "\n",
    "# Use the 'dir()' function to list the attributes and methods of the 'stuff' string\n",
    "# This will display a list of available operations and functions for string manipulation\n",
    "# The output may vary depending on the Python version and environment\n",
    "dir(stuff)\n"
   ]
  },
  {
   "cell_type": "markdown",
   "id": "e4dddaa3",
   "metadata": {},
   "source": [
    "# Searching"
   ]
  },
  {
   "cell_type": "code",
   "execution_count": 19,
   "id": "59e4060b",
   "metadata": {},
   "outputs": [
    {
     "name": "stdout",
     "output_type": "stream",
     "text": [
      "2\n",
      "-1\n"
     ]
    }
   ],
   "source": [
    "# Define a string variable 'fruit' with the value 'banana'\n",
    "fruit = 'banana'\n",
    "\n",
    "# Use the 'find()' method to find the position of the first occurrence of 'na' in 'fruit'\n",
    "# The result is stored in the variable 'pos'\n",
    "# Note that the position is zero-based, so 'na' is found at position 2 (index 2)\n",
    "pos = fruit.find('na')\n",
    "\n",
    "# Print the value stored in 'pos', which is 2\n",
    "print(pos)  # Output: 2\n",
    "\n",
    "# Use the 'find()' method to search for 'z' in 'fruit'\n",
    "# Since 'z' is not present in 'fruit', the 'find()' method returns -1\n",
    "aa = fruit.find('z')\n",
    "\n",
    "# Print the value stored in 'aa', which is -1\n",
    "print(aa)  # Output: -1\n"
   ]
  },
  {
   "cell_type": "markdown",
   "id": "1a8cfd62",
   "metadata": {},
   "source": [
    "# Upper Case"
   ]
  },
  {
   "cell_type": "code",
   "execution_count": 20,
   "id": "2176015d",
   "metadata": {},
   "outputs": [
    {
     "name": "stdout",
     "output_type": "stream",
     "text": [
      "HELLO BOB\n",
      "hello bob\n"
     ]
    }
   ],
   "source": [
    "# Define a string variable 'greet' with the value 'Hello Bob'\n",
    "greet = 'Hello Bob'\n",
    "\n",
    "# Use the 'upper()' method to convert all characters in 'greet' to uppercase\n",
    "# The result is stored in the variable 'nnn'\n",
    "nnn = greet.upper()\n",
    "\n",
    "# Print the value stored in 'nnn', which is 'HELLO BOB' in uppercase\n",
    "print(nnn)  # Output: 'HELLO BOB'\n",
    "\n",
    "# Use the 'lower()' method to convert all characters in 'greet' to lowercase\n",
    "# The result is stored in the variable 'www'\n",
    "www = greet.lower()\n",
    "\n",
    "# Print the value stored in 'www', which is 'hello bob' in lowercase\n",
    "print(www)  # Output: 'hello bob'\n"
   ]
  },
  {
   "cell_type": "markdown",
   "id": "64e2e097",
   "metadata": {},
   "source": [
    "# Search and Replace"
   ]
  },
  {
   "cell_type": "code",
   "execution_count": 21,
   "id": "51075c59",
   "metadata": {},
   "outputs": [
    {
     "name": "stdout",
     "output_type": "stream",
     "text": [
      "Hello Jane\n",
      "HellX BXb\n"
     ]
    }
   ],
   "source": [
    "# Define a string variable 'greet' with the value 'Hello Bob'\n",
    "greet = 'Hello Bob'\n",
    "\n",
    "# Use the 'replace()' method to replace 'Bob' with 'Jane' in 'greet'\n",
    "# The result is stored in the variable 'nstr'\n",
    "nstr = greet.replace('Bob', 'Jane')\n",
    "\n",
    "# Print the value stored in 'nstr', which is 'Hello Jane'\n",
    "print(nstr)  # Output: 'Hello Jane'\n",
    "\n",
    "# Use the 'replace()' method to replace 'o' with 'X' in 'greet'\n",
    "# The result is stored in the variable 'nstr'\n",
    "nstr = greet.replace('o', 'X')\n",
    "\n",
    "# Print the value stored in 'nstr', which is 'HellX BXb'\n",
    "print(nstr)  # Output: 'HellX BXb'\n"
   ]
  },
  {
   "cell_type": "markdown",
   "id": "6da82957",
   "metadata": {},
   "source": [
    "# Stripping Whitespace"
   ]
  },
  {
   "cell_type": "code",
   "execution_count": 22,
   "id": "ac4af436",
   "metadata": {},
   "outputs": [
    {
     "name": "stdout",
     "output_type": "stream",
     "text": [
      "Hello Bob \n",
      " Hello Bob\n",
      "Hello Bob\n"
     ]
    }
   ],
   "source": [
    "# Define a string variable 'greet' with the value ' Hello Bob '\n",
    "greet = ' Hello Bob '\n",
    "\n",
    "# Use the 'lstrip()' method to remove leading (left) whitespace characters from 'greet'\n",
    "# The result is a string without leading spaces: 'Hello Bob '\n",
    "lstripped = greet.lstrip()\n",
    "\n",
    "# Print the value stored in 'lstripped', which is 'Hello Bob '\n",
    "print(lstripped)  # Output: 'Hello Bob '\n",
    "\n",
    "# Use the 'rstrip()' method to remove trailing (right) whitespace characters from 'greet'\n",
    "# The result is a string without trailing spaces: ' Hello Bob'\n",
    "rstripped = greet.rstrip()\n",
    "\n",
    "# Print the value stored in 'rstripped', which is ' Hello Bob'\n",
    "print(rstripped)  # Output: ' Hello Bob'\n",
    "\n",
    "# Use the 'strip()' method to remove both leading and trailing whitespace characters from 'greet'\n",
    "# The result is a string without leading or trailing spaces: 'Hello Bob'\n",
    "stripped = greet.strip()\n",
    "\n",
    "# Print the value stored in 'stripped', which is 'Hello Bob'\n",
    "print(stripped)  # Output: 'Hello Bob'\n"
   ]
  },
  {
   "cell_type": "markdown",
   "id": "ea4d82d9",
   "metadata": {},
   "source": [
    "# Prefixis"
   ]
  },
  {
   "cell_type": "code",
   "execution_count": 23,
   "id": "818fb1da",
   "metadata": {},
   "outputs": [
    {
     "name": "stdout",
     "output_type": "stream",
     "text": [
      "The line starts with the prefix (case-insensitive).\n"
     ]
    }
   ],
   "source": [
    "line = 'Please have a nice day'\n",
    "prefix = 'p'\n",
    "if line.lower().startswith(prefix.lower()):\n",
    "    print(\"The line starts with the prefix (case-insensitive).\")\n",
    "else:\n",
    "    print(\"The line does not start with the prefix (case-insensitive).\")\n"
   ]
  },
  {
   "cell_type": "markdown",
   "id": "9b9b4f20",
   "metadata": {},
   "source": [
    "# Parcing and Extracting"
   ]
  },
  {
   "cell_type": "code",
   "execution_count": 24,
   "id": "7553523d",
   "metadata": {},
   "outputs": [
    {
     "name": "stdout",
     "output_type": "stream",
     "text": [
      "21\n",
      "31\n",
      "uct.ac.za\n"
     ]
    }
   ],
   "source": [
    "# Define the input string\n",
    "data = 'From stephen.marquard@uct.ac.za Sat Jan 5 09:14:16 2008'\n",
    "\n",
    "# Find the index of the \"@\" symbol in the string\n",
    "atpos = data.find('@')\n",
    "print(atpos)  # Output: 21\n",
    "\n",
    "# Find the index of the first space character (' ') after the \"@\" symbol\n",
    "# Start searching for the space character from the position atpos (21)\n",
    "sppos = data.find(' ', atpos)\n",
    "print(sppos)  # Output: 31\n",
    "\n",
    "# Extract the substring between atpos+1 (right after the \"@\" symbol) and sppos\n",
    "# This substring represents the domain of the email address\n",
    "host = data[atpos + 1: sppos]\n",
    "print(host)  # Output: 'uct.ac.za'\n"
   ]
  },
  {
   "cell_type": "markdown",
   "id": "b67be985",
   "metadata": {},
   "source": [
    "# Two kinds of Strings"
   ]
  },
  {
   "cell_type": "code",
   "execution_count": 25,
   "id": "4bab523b",
   "metadata": {},
   "outputs": [
    {
     "data": {
      "text/plain": [
       "str"
      ]
     },
     "execution_count": 25,
     "metadata": {},
     "output_type": "execute_result"
    }
   ],
   "source": [
    "# Assign a string of byte characters to the variable x\n",
    "x = '이광춘'\n",
    "\n",
    "# Check the type of the variable x\n",
    "# In Python 2.7, this is a byte string (str) because it doesn't handle Unicode characters natively\n",
    "type(x)  # Output: <type 'str'>\n",
    "\n",
    "# Reassign a Unicode string to the same variable x\n",
    "# The 'u' prefix indicates that it's a Unicode string in Python 2.7\n",
    "x = u'이광춘'\n",
    "\n",
    "# Check the type of the variable x again\n",
    "# Now, it's a Unicode string (unicode) because of the 'u' prefix\n",
    "type(x)  # Output: <type 'unicode'>\n"
   ]
  },
  {
   "cell_type": "code",
   "execution_count": 27,
   "id": "0fb333bf",
   "metadata": {},
   "outputs": [
    {
     "data": {
      "text/plain": [
       "str"
      ]
     },
     "execution_count": 27,
     "metadata": {},
     "output_type": "execute_result"
    }
   ],
   "source": [
    "# Assign a string of Unicode characters to the variable x\n",
    "x = '이광춘'\n",
    "\n",
    "# Check the type of the variable x\n",
    "# In Python 3.5.1 and later, all strings are Unicode (str) by default\n",
    "type(x)  # Output: <class 'str'>\n",
    "\n",
    "# Reassign another Unicode string to the same variable x\n",
    "# There is no 'u' prefix in Python 3 for Unicode strings; they are all 'str'\n",
    "x = u'이광춘'\n",
    "\n",
    "# Check the type of the variable x again\n",
    "# It remains a Unicode string (str) because all strings are Unicode by default\n",
    "type(x)  # Output: <class 'str'>\n"
   ]
  }
 ],
 "metadata": {
  "kernelspec": {
   "display_name": "Python 3 (ipykernel)",
   "language": "python",
   "name": "python3"
  },
  "language_info": {
   "codemirror_mode": {
    "name": "ipython",
    "version": 3
   },
   "file_extension": ".py",
   "mimetype": "text/x-python",
   "name": "python",
   "nbconvert_exporter": "python",
   "pygments_lexer": "ipython3",
   "version": "3.11.4"
  }
 },
 "nbformat": 4,
 "nbformat_minor": 5
}
