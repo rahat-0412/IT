{
 "cells": [
  {
   "cell_type": "markdown",
   "id": "496c00e1",
   "metadata": {},
   "source": [
    "# Fixed Values,Numeric Constants,String Constants"
   ]
  },
  {
   "cell_type": "code",
   "execution_count": 1,
   "id": "d89c679f",
   "metadata": {},
   "outputs": [
    {
     "name": "stdout",
     "output_type": "stream",
     "text": [
      "27\n",
      "98.6\n",
      "Hello World\n"
     ]
    }
   ],
   "source": [
    "#printing integer\n",
    "print(27)\n",
    "\n",
    "#printing numeric constant\n",
    "\n",
    "print(98.6)\n",
    "#printing string constant\n",
    "\n",
    "print('Hello World')"
   ]
  },
  {
   "cell_type": "markdown",
   "id": "755050ec",
   "metadata": {},
   "source": [
    "# Sentence or Line"
   ]
  },
  {
   "cell_type": "code",
   "execution_count": 2,
   "id": "ab883dc3",
   "metadata": {},
   "outputs": [
    {
     "name": "stdout",
     "output_type": "stream",
     "text": [
      "4\n"
     ]
    }
   ],
   "source": [
    "#declaring variable\n",
    "x=2\n",
    "\n",
    "#incrementing 2 by assigning an expression\n",
    "x=x+2\n",
    "#printing output\n",
    "print(x)"
   ]
  },
  {
   "cell_type": "markdown",
   "id": "597f7dd0",
   "metadata": {},
   "source": [
    "# Numeric Expressions"
   ]
  },
  {
   "cell_type": "code",
   "execution_count": 3,
   "id": "d7d2716b",
   "metadata": {},
   "outputs": [
    {
     "name": "stdout",
     "output_type": "stream",
     "text": [
      "4\n",
      "5280\n",
      "5.28\n"
     ]
    }
   ],
   "source": [
    "# Assign the value 2 to the variable 'xx'\n",
    "xx = 2\n",
    "\n",
    "# Add 2 to the current value of 'xx' (which is 2) and update 'xx' with the result\n",
    "xx = xx + 2\n",
    "\n",
    "# Print the current value of 'xx', which is now 4\n",
    "print(xx)\n",
    "\n",
    "# Calculate the product of 440 and 12 and assign it to the variable 'yy'\n",
    "yy = 440 * 12\n",
    "\n",
    "# Print the value of 'yy', which is 5280\n",
    "print(yy)\n",
    "\n",
    "# Calculate 'yy' divided by 1000 and assign it to the variable 'zz'\n",
    "zz = yy / 1000\n",
    "\n",
    "# Print the value of 'zz', which is 5.2\n",
    "print(zz)\n"
   ]
  },
  {
   "cell_type": "code",
   "execution_count": 4,
   "id": "ea909e94",
   "metadata": {},
   "outputs": [
    {
     "name": "stdout",
     "output_type": "stream",
     "text": [
      "3\n",
      "64\n"
     ]
    }
   ],
   "source": [
    "# Assign the value 23 to the variable 'jj'\n",
    "jj = 23\n",
    "\n",
    "# Calculate the remainder when 'jj' is divided by 5 and assign it to the variable 'kk'\n",
    "kk = jj % 5\n",
    "\n",
    "# Print the value of 'kk', which is 3 (because 23 % 5 = 3)\n",
    "print(kk)\n",
    "\n",
    "# Calculate 4 raised to the power of 3 and print the result\n",
    "# 4 ** 3 = 4 * 4 * 4 = 64\n",
    "print(4 ** 3)  # This prints 64\n"
   ]
  },
  {
   "cell_type": "markdown",
   "id": "ec49597e",
   "metadata": {},
   "source": [
    "# Operator Precedence"
   ]
  },
  {
   "cell_type": "code",
   "execution_count": 7,
   "id": "c7f8d4be",
   "metadata": {},
   "outputs": [
    {
     "name": "stdout",
     "output_type": "stream",
     "text": [
      "11.0\n"
     ]
    }
   ],
   "source": [
    "# Calculate the result of the expression step by step, following the order of operations.\n",
    "# 1. Calculate 2 ** 3, which is 8.\n",
    "# 2. Divide 8 by 4, which is 2.\n",
    "# 3. Multiply 2 by 5, which is 10.\n",
    "# 4. Add 1 to 10, which is 11.\n",
    "x = 1 + 2 ** 3 / 4 * 5\n",
    "\n",
    "# Print the final result, which is 11.\n",
    "print(x)\n",
    "\n"
   ]
  },
  {
   "cell_type": "markdown",
   "id": "dd39d616",
   "metadata": {},
   "source": [
    "# Type of literals and Constants"
   ]
  },
  {
   "cell_type": "code",
   "execution_count": 9,
   "id": "9e620028",
   "metadata": {},
   "outputs": [
    {
     "name": "stdout",
     "output_type": "stream",
     "text": [
      "5\n",
      "hello there\n"
     ]
    }
   ],
   "source": [
    " #declaring string constant\n",
    "ddd = 1 + 4\n",
    "    \n",
    "    #printing putput\n",
    "print(ddd)\n",
    "#assigning expression \n",
    "\n",
    " eee = 'hello ' + 'there'\n",
    "#printing output    \n",
    "    \n",
    "print(eee)\n"
   ]
  },
  {
   "cell_type": "markdown",
   "id": "346bb939",
   "metadata": {},
   "source": [
    "# Types of Numbers"
   ]
  },
  {
   "cell_type": "code",
   "execution_count": 16,
   "id": "ed563013",
   "metadata": {},
   "outputs": [
    {
     "name": "stdout",
     "output_type": "stream",
     "text": [
      "<class 'int'>\n",
      "<class 'float'>\n",
      "<class 'int'>\n",
      "<class 'float'>\n"
     ]
    }
   ],
   "source": [
    "# Assign the integer value 1 to the variable 'xx'\n",
    "xx = 1\n",
    "\n",
    "# Check the type of 'xx' and print it to the console\n",
    "# This will show that 'xx' is of type 'int' (integer)\n",
    "print(type(xx))  # Output: <class 'int'>\n",
    "\n",
    "# Assign the floating-point value 98.6 to the variable 'temp'\n",
    "temp = 98.6\n",
    "\n",
    "# Check the type of 'temp' and print it to the console\n",
    "# This will show that 'temp' is of type 'float'\n",
    "print(type(temp))  # Output: <class 'float'>\n",
    "\n",
    "# Check the type of the integer literal '1' and print it to the console\n",
    "# This will show that the integer literal '1' is of type 'int'\n",
    "print(type(1))  # Output: <class 'int'>\n",
    "\n",
    "# Check the type of the floating-point literal '1.0' and print it to the console\n",
    "# This will show that the floating-point literal '1.0' is of type 'float'\n",
    "print(type(1.0))  # Output: <class 'float'>\n"
   ]
  },
  {
   "cell_type": "markdown",
   "id": "9a2e02e1",
   "metadata": {},
   "source": [
    "# Type Conversions"
   ]
  },
  {
   "cell_type": "code",
   "execution_count": 17,
   "id": "9e0c70b5",
   "metadata": {},
   "outputs": [
    {
     "name": "stdout",
     "output_type": "stream",
     "text": [
      "199.0\n",
      "<class 'int'>\n",
      "42.0\n",
      "<class 'float'>\n"
     ]
    }
   ],
   "source": [
    "# Calculate the sum of the integer 99 and the integer 100,\n",
    "# then convert the result to a float and print it to the console\n",
    "# The result is 199.0 because the addition of two integers produces an integer result,\n",
    "# and then it is explicitly converted to a float.\n",
    "print(float(99) + 100)  # Output: 199.0\n",
    "\n",
    "# Create a variable 'i' and assign the integer value 42 to it\n",
    "i = 42\n",
    "\n",
    "# Check the type of variable 'i' and print it to the console\n",
    "# This will show that 'i' is of type 'int'\n",
    "print(type(i))  # Output: <class 'int'>\n",
    "\n",
    "# Convert the integer value 'i' to a float and assign it to the variable 'f'\n",
    "f = float(i)\n",
    "\n",
    "# Print the value of 'f' to the console\n",
    "# This will show that 'f' is now a float with the value 42.0\n",
    "print(f)  # Output: 42.0\n",
    "\n",
    "# Check the type of variable 'f' and print it to the console\n",
    "# This will show that 'f' is of type 'float'\n",
    "print(type(f))  # Output: <class 'float'>\n"
   ]
  },
  {
   "cell_type": "markdown",
   "id": "419373df",
   "metadata": {},
   "source": [
    "# Integer Division"
   ]
  },
  {
   "cell_type": "code",
   "execution_count": 18,
   "id": "fe34ffe6",
   "metadata": {},
   "outputs": [
    {
     "name": "stdout",
     "output_type": "stream",
     "text": [
      "5.0\n",
      "4.5\n",
      "0.99\n",
      "5.0\n",
      "0.99\n"
     ]
    }
   ],
   "source": [
    "# Perform integer division of 10 by 2 and print the result\n",
    "# In Python 3, division of integers (/) always results in a float, even if the result is a whole number.\n",
    "print(10 / 2)  # Output: 5.0\n",
    "\n",
    "# Perform integer division of 9 by 2 and print the result\n",
    "# The result is a float because division of integers (/) in Python 3 always produces a float.\n",
    "print(9 / 2)  # Output: 4.5\n",
    "\n",
    "# Perform division of 99 by 100 and print the result\n",
    "# The result is a float because one or both of the operands are floats.\n",
    "print(99 / 100)  # Output: 0.99\n",
    "\n",
    "# Perform division of 10.0 by 2.0 and print the result\n",
    "# Both operands are floats, so the result is a float as well.\n",
    "print(10.0 / 2.0)  # Output: 5.0\n",
    "\n",
    "# Perform division of 99.0 by 100.0 and print the result\n",
    "# Both operands are floats, so the result is a float as well.\n",
    "print(99.0 / 100.0)  # Output: 0.99\n"
   ]
  },
  {
   "cell_type": "markdown",
   "id": "520d9c5c",
   "metadata": {},
   "source": [
    "# Strings Conversions"
   ]
  },
  {
   "cell_type": "code",
   "execution_count": 19,
   "id": "c6583e50",
   "metadata": {},
   "outputs": [
    {
     "name": "stdout",
     "output_type": "stream",
     "text": [
      "<class 'str'>\n"
     ]
    },
    {
     "ename": "TypeError",
     "evalue": "can only concatenate str (not \"int\") to str",
     "output_type": "error",
     "traceback": [
      "\u001b[1;31m---------------------------------------------------------------------------\u001b[0m",
      "\u001b[1;31mTypeError\u001b[0m                                 Traceback (most recent call last)",
      "Cell \u001b[1;32mIn[19], line 11\u001b[0m\n\u001b[0;32m      6\u001b[0m \u001b[38;5;28mprint\u001b[39m(\u001b[38;5;28mtype\u001b[39m(sval))  \u001b[38;5;66;03m# Output: <class 'str'>\u001b[39;00m\n\u001b[0;32m      8\u001b[0m \u001b[38;5;66;03m# Attempt to concatenate the string 'sval' with the integer 1\u001b[39;00m\n\u001b[0;32m      9\u001b[0m \u001b[38;5;66;03m# This will result in a TypeError because you cannot directly concatenate a string and an integer.\u001b[39;00m\n\u001b[0;32m     10\u001b[0m \u001b[38;5;66;03m# You need to convert the integer to a string first.\u001b[39;00m\n\u001b[1;32m---> 11\u001b[0m \u001b[38;5;28mprint\u001b[39m(sval \u001b[38;5;241m+\u001b[39m \u001b[38;5;241m1\u001b[39m)  \u001b[38;5;66;03m# This line will raise an error\u001b[39;00m\n\u001b[0;32m     13\u001b[0m \u001b[38;5;66;03m# Create a variable 'ival' and convert the string 'sval' to an integer\u001b[39;00m\n\u001b[0;32m     14\u001b[0m \u001b[38;5;66;03m# This successfully converts the string '123' to an integer value 123.\u001b[39;00m\n\u001b[0;32m     15\u001b[0m ival \u001b[38;5;241m=\u001b[39m \u001b[38;5;28mint\u001b[39m(sval)\n",
      "\u001b[1;31mTypeError\u001b[0m: can only concatenate str (not \"int\") to str"
     ]
    }
   ],
   "source": [
    "# Create a variable 'sval' and assign the string '123' to it\n",
    "sval = '123'\n",
    "\n",
    "# Check the type of 'sval' and print it to the console\n",
    "# This will show that 'sval' is of type 'str' (string)\n",
    "print(type(sval))  # Output: <class 'str'>\n",
    "\n",
    "# Attempt to concatenate the string 'sval' with the integer 1\n",
    "# This will result in a TypeError because you cannot directly concatenate a string and an integer.\n",
    "# You need to convert the integer to a string first.\n",
    "print(sval + 1)  # This line will raise an error\n",
    "\n",
    "# Create a variable 'ival' and convert the string 'sval' to an integer\n",
    "# This successfully converts the string '123' to an integer value 123.\n",
    "ival = int(sval)\n",
    "\n",
    "# Check the type of 'ival' and print it to the console\n",
    "# This will show that 'ival' is of type 'int'\n",
    "print(type(ival))  # Output: <class 'int'>\n",
    "\n",
    "# Perform addition with the integer 'ival' and the integer 1\n",
    "# This successfully adds 1 to the integer value 123, resulting in 124.\n",
    "print(ival + 1)  # Output: 124\n",
    "\n",
    "# Create a variable 'nsv' and assign the string 'hello bob' to it\n",
    "nsv = 'hello bob'\n",
    "\n",
    "# Attempt to convert the string 'nsv' to an integer\n",
    "# This will result in a ValueError because 'hello bob' cannot be directly converted to an integer.\n",
    "# It does not represent a valid integer value.\n",
    "niv = int(nsv)  # This line will raise an error\n"
   ]
  },
  {
   "cell_type": "markdown",
   "id": "88af013a",
   "metadata": {},
   "source": [
    "# User input"
   ]
  },
  {
   "cell_type": "code",
   "execution_count": 20,
   "id": "0b8bbe39",
   "metadata": {},
   "outputs": [
    {
     "name": "stdout",
     "output_type": "stream",
     "text": [
      "Who are you? abc\n",
      "Welcome abc\n"
     ]
    }
   ],
   "source": [
    "# Prompt the user for input with the message 'Who are you? '\n",
    "# The user's input will be stored in the variable 'nam'.\n",
    "nam = input('Who are you? ')\n",
    "\n",
    "# Print a welcome message using the value entered by the user\n",
    "# The value stored in the 'nam' variable is concatenated with the string 'Welcome',\n",
    "# and the result is printed to the console.\n",
    "print('Welcome', nam)\n"
   ]
  },
  {
   "cell_type": "markdown",
   "id": "81ef6b2e",
   "metadata": {},
   "source": [
    "# Converting User Input"
   ]
  },
  {
   "cell_type": "code",
   "execution_count": 21,
   "id": "7b1b6821",
   "metadata": {},
   "outputs": [
    {
     "name": "stdout",
     "output_type": "stream",
     "text": [
      "Who are you? cde\n",
      "Welcome cde\n"
     ]
    }
   ],
   "source": [
    "# Prompt the user for input with the message 'Who are you? '\n",
    "# The user's input will be stored in the variable 'nam'.\n",
    "nam = input('Who are you? ')\n",
    "\n",
    "# Print a welcome message using the value entered by the user\n",
    "# The value stored in the 'nam' variable is concatenated with the string 'Welcome',\n",
    "# and the result is printed to the console.\n",
    "print('Welcome', nam)\n"
   ]
  },
  {
   "cell_type": "markdown",
   "id": "6018e5e2",
   "metadata": {},
   "source": [
    "# Comments in Python"
   ]
  },
  {
   "cell_type": "code",
   "execution_count": 24,
   "id": "c9c0cd19",
   "metadata": {},
   "outputs": [
    {
     "name": "stdout",
     "output_type": "stream",
     "text": [
      "Enter file:first\n"
     ]
    },
    {
     "ename": "FileNotFoundError",
     "evalue": "[Errno 2] No such file or directory: 'first'",
     "output_type": "error",
     "traceback": [
      "\u001b[1;31m---------------------------------------------------------------------------\u001b[0m",
      "\u001b[1;31mFileNotFoundError\u001b[0m                         Traceback (most recent call last)",
      "Cell \u001b[1;32mIn[24], line 3\u001b[0m\n\u001b[0;32m      1\u001b[0m \u001b[38;5;66;03m# Get the name of the file and open it\u001b[39;00m\n\u001b[0;32m      2\u001b[0m name \u001b[38;5;241m=\u001b[39m \u001b[38;5;28minput\u001b[39m(\u001b[38;5;124m'\u001b[39m\u001b[38;5;124mEnter file:\u001b[39m\u001b[38;5;124m'\u001b[39m)\n\u001b[1;32m----> 3\u001b[0m handle \u001b[38;5;241m=\u001b[39m \u001b[38;5;28mopen\u001b[39m(name, \u001b[38;5;124m'\u001b[39m\u001b[38;5;124mr\u001b[39m\u001b[38;5;124m'\u001b[39m)\n\u001b[0;32m      5\u001b[0m \u001b[38;5;66;03m# Count word frequency\u001b[39;00m\n\u001b[0;32m      6\u001b[0m counts \u001b[38;5;241m=\u001b[39m \u001b[38;5;28mdict\u001b[39m()\n",
      "File \u001b[1;32m~\\anaconda3\\Lib\\site-packages\\IPython\\core\\interactiveshell.py:284\u001b[0m, in \u001b[0;36m_modified_open\u001b[1;34m(file, *args, **kwargs)\u001b[0m\n\u001b[0;32m    277\u001b[0m \u001b[38;5;28;01mif\u001b[39;00m file \u001b[38;5;129;01min\u001b[39;00m {\u001b[38;5;241m0\u001b[39m, \u001b[38;5;241m1\u001b[39m, \u001b[38;5;241m2\u001b[39m}:\n\u001b[0;32m    278\u001b[0m     \u001b[38;5;28;01mraise\u001b[39;00m \u001b[38;5;167;01mValueError\u001b[39;00m(\n\u001b[0;32m    279\u001b[0m         \u001b[38;5;124mf\u001b[39m\u001b[38;5;124m\"\u001b[39m\u001b[38;5;124mIPython won\u001b[39m\u001b[38;5;124m'\u001b[39m\u001b[38;5;124mt let you open fd=\u001b[39m\u001b[38;5;132;01m{\u001b[39;00mfile\u001b[38;5;132;01m}\u001b[39;00m\u001b[38;5;124m by default \u001b[39m\u001b[38;5;124m\"\u001b[39m\n\u001b[0;32m    280\u001b[0m         \u001b[38;5;124m\"\u001b[39m\u001b[38;5;124mas it is likely to crash IPython. If you know what you are doing, \u001b[39m\u001b[38;5;124m\"\u001b[39m\n\u001b[0;32m    281\u001b[0m         \u001b[38;5;124m\"\u001b[39m\u001b[38;5;124myou can use builtins\u001b[39m\u001b[38;5;124m'\u001b[39m\u001b[38;5;124m open.\u001b[39m\u001b[38;5;124m\"\u001b[39m\n\u001b[0;32m    282\u001b[0m     )\n\u001b[1;32m--> 284\u001b[0m \u001b[38;5;28;01mreturn\u001b[39;00m io_open(file, \u001b[38;5;241m*\u001b[39margs, \u001b[38;5;241m*\u001b[39m\u001b[38;5;241m*\u001b[39mkwargs)\n",
      "\u001b[1;31mFileNotFoundError\u001b[0m: [Errno 2] No such file or directory: 'first'"
     ]
    }
   ],
   "source": [
    "# Get the name of the file and open it\n",
    "name = input('Enter file:')\n",
    "handle = open(name, 'r')\n",
    "\n",
    "# Count word frequency\n",
    "counts = dict()\n",
    "for line in handle:\n",
    "    words = line.split()\n",
    "    for word in words:\n",
    "        counts[word] = counts.get(word, 0) + 1\n",
    "\n",
    "# Find the most common word\n",
    "bigcount = None\n",
    "bigword = None\n",
    "for word, count in counts.items():\n",
    "    if bigcount is None or count > bigcount:\n",
    "        bigword = word\n",
    "        bigcount = count\n",
    "\n",
    "# Print the most common word and its frequency\n",
    "print(bigword, bigcount)\n"
   ]
  }
 ],
 "metadata": {
  "kernelspec": {
   "display_name": "Python 3 (ipykernel)",
   "language": "python",
   "name": "python3"
  },
  "language_info": {
   "codemirror_mode": {
    "name": "ipython",
    "version": 3
   },
   "file_extension": ".py",
   "mimetype": "text/x-python",
   "name": "python",
   "nbconvert_exporter": "python",
   "pygments_lexer": "ipython3",
   "version": "3.11.4"
  }
 },
 "nbformat": 4,
 "nbformat_minor": 5
}
