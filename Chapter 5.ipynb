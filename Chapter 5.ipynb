{
 "cells": [
  {
   "cell_type": "markdown",
   "id": "6c2d939a",
   "metadata": {},
   "source": [
    "# Repeated Steps"
   ]
  },
  {
   "cell_type": "code",
   "execution_count": 3,
   "id": "78e8baaa",
   "metadata": {},
   "outputs": [
    {
     "name": "stdout",
     "output_type": "stream",
     "text": [
      "5\n",
      "4\n",
      "3\n",
      "2\n",
      "1\n",
      "Blastoff!\n",
      "0\n"
     ]
    }
   ],
   "source": [
    "# Initialize the variable 'n' with the value 5\n",
    "n = 5\n",
    "\n",
    "# Start a while loop that continues as long as 'n' is greater than 0\n",
    "while n > 0:\n",
    "    # Inside the loop, print the current value of 'n'\n",
    "    print(n)\n",
    "    \n",
    "    # Decrease the value of 'n' by 1 using the '-=' operator\n",
    "    n -= 1\n",
    "\n",
    "# Once the loop completes (when 'n' becomes 0), print 'Blastoff!'\n",
    "print('Blastoff!')\n",
    "\n",
    "# Finally, print the value of 'n' (which is now -1)\n",
    "print(n)\n"
   ]
  },
  {
   "cell_type": "markdown",
   "id": "7f9cfa17",
   "metadata": {},
   "source": [
    "# Infinite loop"
   ]
  },
  {
   "cell_type": "code",
   "execution_count": null,
   "id": "8a46d5ef",
   "metadata": {},
   "outputs": [],
   "source": [
    "# Initialize the variable 'n' with the value 5\n",
    "n = 5\n",
    "\n",
    "# Start a while loop that continues as long as 'n' is greater than 0\n",
    "while n > 0:\n",
    "    # Inside the loop, print 'Lather'\n",
    "    print('Lather')\n",
    "    \n",
    "    # Inside the loop, print 'Rinse'\n",
    "    print('Rinse')\n",
    "    \n",
    "    # Inside the loop, print 'Dry off!'\n",
    "    print('Dry off!')\n",
    "\n",
    "# The loop will continue to print 'Lather,' 'Rinse,' and 'Dry off!' until 'n' becomes 0,\n",
    "# but in this code, 'n' remains constant at 5, so the loop will run indefinitely.\n"
   ]
  },
  {
   "cell_type": "code",
   "execution_count": null,
   "id": "a11b10c7",
   "metadata": {},
   "outputs": [],
   "source": [
    "# Initialize the variable 'n' with the value 0\n",
    "n = 0\n",
    "\n",
    "# Start a while loop, but the condition 'n > 0' is already False,\n",
    "# so the loop will not execute.\n",
    "while n > 0:\n",
    "    # These lines would be executed if 'n' were greater than 0,\n",
    "    # but in this case, they won't be executed.\n",
    "    print('Lather')\n",
    "    print('Rinse')\n",
    "    print('Dry off!')\n",
    "\n",
    "# Since the condition 'n > 0' is False from the beginning,\n",
    "# the loop does not run, and nothing is printed.\n"
   ]
  },
  {
   "cell_type": "markdown",
   "id": "51601224",
   "metadata": {},
   "source": [
    "# Breaking Out of Loop"
   ]
  },
  {
   "cell_type": "code",
   "execution_count": null,
   "id": "e18d79f5",
   "metadata": {},
   "outputs": [],
   "source": [
    "# Create an infinite loop (will continue until explicitly terminated)\n",
    "while True:\n",
    "    # Prompt the user to input a line of text and store it in the variable 'line'\n",
    "    line = input('> ')\n",
    "    \n",
    "    # Check if the user's input is equal to 'done'\n",
    "    if line == 'done':\n",
    "        # If the input is 'done', break out of the loop\n",
    "        break\n",
    "    \n",
    "    # Print the user's input line\n",
    "    print(line)\n",
    "\n",
    "# This line is outside the loop and will be executed after the loop exits\n",
    "print('Done!')\n"
   ]
  },
  {
   "cell_type": "markdown",
   "id": "f4783c94",
   "metadata": {},
   "source": [
    "# Iteration with Continue"
   ]
  },
  {
   "cell_type": "code",
   "execution_count": null,
   "id": "65005065",
   "metadata": {},
   "outputs": [],
   "source": [
    "# Create an infinite loop (will continue until explicitly terminated)\n",
    "while True:\n",
    "    # Prompt the user to input a line of text and store it in the variable 'line'\n",
    "    line = input('> ')\n",
    "    \n",
    "    # Check if the input starts with a '#' character\n",
    "    if line[0] == '#':\n",
    "        # If it does, skip this line and continue to the next iteration\n",
    "        continue\n",
    "    \n",
    "    # Check if the input is equal to 'done'\n",
    "    if line == 'done':\n",
    "        # If it is, break out of the loop\n",
    "        break\n",
    "    \n",
    "    # Print the user's input line\n",
    "    print(line)\n",
    "\n",
    "# This line is outside the loop and will be executed after the loop exits\n",
    "print('Done!')\n"
   ]
  },
  {
   "cell_type": "markdown",
   "id": "9ee50b91",
   "metadata": {},
   "source": [
    "# Definite loop"
   ]
  },
  {
   "cell_type": "code",
   "execution_count": null,
   "id": "9f997b76",
   "metadata": {},
   "outputs": [],
   "source": [
    "# Iterate through the list [5, 4, 3, 2, 1]\n",
    "for i in [5, 4, 3, 2, 1]:\n",
    "    # Inside the loop, print the current value of 'i'\n",
    "    print(i)\n",
    "    \n",
    "    # After printing 'i', print 'Blastoff!'\n",
    "    print('Blastoff!')\n"
   ]
  },
  {
   "cell_type": "code",
   "execution_count": null,
   "id": "d2b5565e",
   "metadata": {},
   "outputs": [],
   "source": [
    "5\n",
    "Blastoff!\n",
    "4\n",
    "Blastoff!\n",
    "3\n",
    "Blastoff!\n",
    "2\n",
    "Blastoff!\n",
    "1\n",
    "Blastoff!  #output\n"
   ]
  },
  {
   "cell_type": "markdown",
   "id": "b7826464",
   "metadata": {},
   "source": [
    "# Definite loop with Strings"
   ]
  },
  {
   "cell_type": "code",
   "execution_count": null,
   "id": "b7a20ea3",
   "metadata": {},
   "outputs": [],
   "source": [
    "# Define a list of friends\n",
    "friends = ['Joseph', 'Glenn', 'Sally']\n",
    "\n",
    "# Iterate through the list of friends\n",
    "for friend in friends:\n",
    "    # Inside the loop, print a New Year's greeting for each friend\n",
    "    print('Happy New Year:', friend)\n",
    "\n",
    "# This line is outside the loop and will be executed after all friends are greeted\n",
    "print('Done!')\n"
   ]
  },
  {
   "cell_type": "code",
   "execution_count": null,
   "id": "84623832",
   "metadata": {},
   "outputs": [],
   "source": [
    "# output \n",
    "Happy New Year: Joseph\n",
    "Happy New Year: Glenn\n",
    "Happy New Year: Sally\n",
    "Done!\n"
   ]
  },
  {
   "cell_type": "markdown",
   "id": "dce76fb3",
   "metadata": {},
   "source": [
    "# Looping through Set"
   ]
  },
  {
   "cell_type": "code",
   "execution_count": null,
   "id": "8e23d2ce",
   "metadata": {},
   "outputs": [],
   "source": [
    "# Print 'Before' before the loop starts\n",
    "print('Before')\n",
    "\n",
    "# Iterate through the list of numbers\n",
    "for thing in [9, 41, 12, 3, 74, 15]:\n",
    "    # Inside the loop, print each number from the list\n",
    "    print(thing)\n",
    "\n",
    "# Print 'After' after the loop completes\n",
    "print('After')\n"
   ]
  },
  {
   "cell_type": "code",
   "execution_count": null,
   "id": "0faadfed",
   "metadata": {},
   "outputs": [],
   "source": [
    "# output\n",
    "Before\n",
    "9\n",
    "41\n",
    "12\n",
    "3\n",
    "74\n",
    "15\n",
    "After\n"
   ]
  },
  {
   "cell_type": "markdown",
   "id": "8019a663",
   "metadata": {},
   "source": [
    "# Largest value"
   ]
  },
  {
   "cell_type": "code",
   "execution_count": null,
   "id": "82e61914",
   "metadata": {},
   "outputs": [],
   "source": [
    "# Initialize the variable 'largest_so_far' with -1\n",
    "largest_so_far = -1\n",
    "\n",
    "# Print 'Before' and the initial value of 'largest_so_far'\n",
    "print('Before', largest_so_far)\n",
    "\n",
    "# Iterate through the list of numbers\n",
    "for the_num in [9, 41, 12, 3, 74, 15]:\n",
    "    # Check if the current number 'the_num' is greater than 'largest_so_far'\n",
    "    if the_num > largest_so_far:\n",
    "        # If it is, update 'largest_so_far' with the current number\n",
    "        largest_so_far = the_num\n",
    "    \n",
    "    # Print the current value of 'largest_so_far' and 'the_num' for each iteration\n",
    "    print(largest_so_far, the_num)\n",
    "\n",
    "# Print 'After' and the final value of 'largest_so_far' after the loop completes\n",
    "print('After', largest_so_far)\n"
   ]
  },
  {
   "cell_type": "code",
   "execution_count": null,
   "id": "97f5c7c7",
   "metadata": {},
   "outputs": [],
   "source": [
    "# output \n",
    "Before -1\n",
    "9 9\n",
    "41 41\n",
    "41 12\n",
    "41 3\n",
    "74 74\n",
    "74 15\n",
    "After 74\n"
   ]
  },
  {
   "cell_type": "markdown",
   "id": "08cf1278",
   "metadata": {},
   "source": [
    "# Counting in Loop"
   ]
  },
  {
   "cell_type": "code",
   "execution_count": null,
   "id": "9b974219",
   "metadata": {},
   "outputs": [],
   "source": [
    "# Initialize the variable 'zork' with 0\n",
    "zork = 0\n",
    "\n",
    "# Print 'Before' and the initial value of 'zork'\n",
    "print('Before', zork)\n",
    "\n",
    "# Iterate through the list of numbers\n",
    "for thing in [9, 41, 12, 3, 74, 15]:\n",
    "    # Increment 'zork' by 1 for each iteration\n",
    "    zork = zork + 1\n",
    "    \n",
    "    # Print the current value of 'zork' and 'thing' for each iteration\n",
    "    print(zork, thing)\n",
    "\n",
    "# Print 'After' and the final value of 'zork' after the loop completes\n",
    "print('After', zork)\n"
   ]
  },
  {
   "cell_type": "code",
   "execution_count": null,
   "id": "adbbb2a8",
   "metadata": {},
   "outputs": [],
   "source": [
    "# output \n",
    "Before 0\n",
    "1 9\n",
    "2 41\n",
    "3 12\n",
    "4 3\n",
    "5 74\n",
    "6 15\n",
    "After 6\n"
   ]
  },
  {
   "cell_type": "markdown",
   "id": "3413b8c7",
   "metadata": {},
   "source": [
    "# Summing in Loop"
   ]
  },
  {
   "cell_type": "code",
   "execution_count": null,
   "id": "bfaffce5",
   "metadata": {},
   "outputs": [],
   "source": [
    "# Initialize the variable 'zork' with 0\n",
    "zork = 0\n",
    "\n",
    "# Print 'Before' and the initial value of 'zork'\n",
    "print('Before', zork)\n",
    "\n",
    "# Iterate through the list of numbers\n",
    "for thing in [9, 41, 12, 3, 74, 15]:\n",
    "    # Add the current value of 'thing' to 'zork'\n",
    "    zork = zork + thing\n",
    "    \n",
    "    # Print the current value of 'zork' and 'thing' for each iteration\n",
    "    print(zork, thing)\n",
    "\n",
    "# Print 'After' and the final value of 'zork' after the loop completes\n",
    "print('After', zork)\n"
   ]
  },
  {
   "cell_type": "code",
   "execution_count": null,
   "id": "490565e1",
   "metadata": {},
   "outputs": [],
   "source": [
    "# output\n",
    "Before 0\n",
    "9 9\n",
    "50 41\n",
    "62 12\n",
    "65 3\n",
    "139 74\n",
    "154 15\n",
    "After 154\n"
   ]
  },
  {
   "cell_type": "markdown",
   "id": "a38c727c",
   "metadata": {},
   "source": [
    "# Average"
   ]
  },
  {
   "cell_type": "code",
   "execution_count": null,
   "id": "67d67635",
   "metadata": {},
   "outputs": [],
   "source": [
    "# Initialize variables 'count' and 'sum' to 0\n",
    "count = 0\n",
    "sum = 0\n",
    "\n",
    "# Print 'Before', 'count', and 'sum' with their initial values\n",
    "print('Before', count, sum)\n",
    "\n",
    "# Iterate through the list of numbers\n",
    "for value in [9, 41, 12, 3, 74, 15]:\n",
    "    # Increment 'count' by 1 for each iteration\n",
    "    count = count + 1\n",
    "    \n",
    "    # Add the current value of 'value' to 'sum'\n",
    "    sum = sum + value\n",
    "    \n",
    "    # Print 'count', 'sum', and the current value of 'value' for each iteration\n",
    "    print(count, sum, value)\n",
    "\n",
    "# Calculate and print the average ('sum / count') after the loop completes\n",
    "print('After', count, sum, sum / count)\n"
   ]
  },
  {
   "cell_type": "code",
   "execution_count": null,
   "id": "ff2bbcf3",
   "metadata": {},
   "outputs": [],
   "source": [
    "# output\n",
    "Before 0 0\n",
    "1 9 9\n",
    "2 50 41\n",
    "3 62 12\n",
    "4 65 3\n",
    "5 139 74\n",
    "6 154 15\n",
    "After 6 154 25.666666666666668\n"
   ]
  },
  {
   "cell_type": "markdown",
   "id": "1dec269c",
   "metadata": {},
   "source": [
    "# Filtring"
   ]
  },
  {
   "cell_type": "code",
   "execution_count": null,
   "id": "30ee2121",
   "metadata": {},
   "outputs": [],
   "source": [
    "# Print 'Before' before the loop starts\n",
    "print('Before')\n",
    "\n",
    "# Iterate through the list of numbers\n",
    "for value in [9, 41, 12, 3, 74, 15]:\n",
    "    # Check if the current value 'value' is greater than 20\n",
    "    if value > 20:\n",
    "        # If it is, print a message indicating it's a large number\n",
    "        print('Large number', value)\n",
    "\n",
    "# This line is outside the loop and will be executed after all numbers have been processed\n",
    "print('After')\n"
   ]
  },
  {
   "cell_type": "code",
   "execution_count": null,
   "id": "9c2a0c01",
   "metadata": {},
   "outputs": [],
   "source": [
    "# outputBefore\n",
    "Large number 41\n",
    "Large number 74\n",
    "After\n",
    "\n"
   ]
  },
  {
   "cell_type": "markdown",
   "id": "ed377589",
   "metadata": {},
   "source": [
    "# Search using Boolean Variable"
   ]
  },
  {
   "cell_type": "code",
   "execution_count": null,
   "id": "280b2488",
   "metadata": {},
   "outputs": [],
   "source": [
    "# Initialize the variable 'found' with False\n",
    "found = False\n",
    "\n",
    "# Print 'Before' and the initial value of 'found'\n",
    "print('Before', found)\n",
    "\n",
    "# Iterate through the list of numbers\n",
    "for value in [9, 41, 12, 3, 74, 15]:\n",
    "    # Check if the current value 'value' is equal to 3\n",
    "    if value == 3:\n",
    "        # If it is, set 'found' to True\n",
    "        found = True\n",
    "    \n",
    "    # Print the current value of 'found' and 'value' for each iteration\n",
    "    print(found, value)\n",
    "\n",
    "# Print 'After' and the final value of 'found' after the loop completes\n",
    "print('After', found)\n"
   ]
  },
  {
   "cell_type": "code",
   "execution_count": null,
   "id": "3493c363",
   "metadata": {},
   "outputs": [],
   "source": [
    "# output\n",
    "Before False\n",
    "False 9\n",
    "False 41\n",
    "False 12\n",
    "True 3\n",
    "True 74\n",
    "True 15\n",
    "After True\n"
   ]
  },
  {
   "cell_type": "markdown",
   "id": "51bf8232",
   "metadata": {},
   "source": [
    "# Smallest Value"
   ]
  },
  {
   "cell_type": "code",
   "execution_count": null,
   "id": "9d5c8480",
   "metadata": {},
   "outputs": [],
   "source": [
    "# Initialize the variable 'largest_so_far' with -1\n",
    "largest_so_far = -1\n",
    "\n",
    "# Print 'Before' and the initial value of 'largest_so_far'\n",
    "print('Before', largest_so_far)\n",
    "\n",
    "# Iterate through the list of numbers\n",
    "for the_num in [9, 41, 12, 3, 74, 15]:\n",
    "    # Check if the current number 'the_num' is greater than 'largest_so_far'\n",
    "    if the_num > largest_so_far:\n",
    "        # If it is, update 'largest_so_far' with the current number\n",
    "        largest_so_far = the_num\n",
    "    \n",
    "    # Print the current value of 'largest_so_far' and 'the_num' for each iteration\n",
    "    print(largest_so_far, the_num)\n",
    "\n",
    "# Print 'After' and the final value of 'largest_so_far' after the loop completes\n",
    "print('After', largest_so_far)\n"
   ]
  },
  {
   "cell_type": "code",
   "execution_count": null,
   "id": "ad63a3bd",
   "metadata": {},
   "outputs": [],
   "source": [
    "#output\n",
    "Before -1\n",
    "9 9\n",
    "41 41\n",
    "41 12\n",
    "41 3\n",
    "74 74\n",
    "74 15\n",
    "After 74\n"
   ]
  },
  {
   "cell_type": "markdown",
   "id": "e46f63fa",
   "metadata": {},
   "source": [
    "# IS and IS NOT Operator"
   ]
  },
  {
   "cell_type": "code",
   "execution_count": null,
   "id": "f97c3bc0",
   "metadata": {},
   "outputs": [],
   "source": [
    "# Initialize the variable 'smallest' as None\n",
    "smallest = None\n",
    "\n",
    "# Print 'Before'\n",
    "print('Before')\n",
    "\n",
    "# Iterate through the list of numbers\n",
    "for value in [3, 41, 12, 9, 74, 15]:\n",
    "    # Check if 'smallest' is None (i.e., it's the first number encountered)\n",
    "    if smallest is None:\n",
    "        smallest = value\n",
    "    # If 'smallest' is not None, compare the current 'value' with 'smallest'\n",
    "    elif value < smallest:\n",
    "        # If 'value' is smaller than 'smallest', update 'smallest' with 'value'\n",
    "        smallest = value\n",
    "    \n",
    "    # Print the current value of 'smallest' and 'value' for each iteration\n",
    "    print(smallest, value)\n",
    "\n",
    "# Print 'After' and the final value of 'smallest' after the loop completes\n",
    "print('After', smallest)\n"
   ]
  },
  {
   "cell_type": "code",
   "execution_count": null,
   "id": "02ca1fd4",
   "metadata": {},
   "outputs": [],
   "source": [
    "# output\n",
    "Before\n",
    "3 3\n",
    "3 41\n",
    "3 12\n",
    "3 9\n",
    "3 74\n",
    "3 15\n",
    "After 3\n"
   ]
  }
 ],
 "metadata": {
  "kernelspec": {
   "display_name": "Python 3 (ipykernel)",
   "language": "python",
   "name": "python3"
  },
  "language_info": {
   "codemirror_mode": {
    "name": "ipython",
    "version": 3
   },
   "file_extension": ".py",
   "mimetype": "text/x-python",
   "name": "python",
   "nbconvert_exporter": "python",
   "pygments_lexer": "ipython3",
   "version": "3.11.4"
  }
 },
 "nbformat": 4,
 "nbformat_minor": 5
}
