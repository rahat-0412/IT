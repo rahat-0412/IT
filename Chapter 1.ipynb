{
 "cells": [
  {
   "cell_type": "markdown",
   "id": "c4ac0fa8",
   "metadata": {},
   "source": [
    "# Bigword,Bigcount"
   ]
  },
  {
   "cell_type": "code",
   "execution_count": 14,
   "id": "591e1f53",
   "metadata": {},
   "outputs": [
    {
     "name": "stdout",
     "output_type": "stream",
     "text": [
      "Enter file: first\n",
      "File not found: first\n"
     ]
    }
   ],
   "source": [
    "# Get the name of the file from the user\n",
    "name = input('Enter file: ')\n",
    "\n",
    "# Open the file for reading\n",
    "try:\n",
    "    handle = open(name, 'r')\n",
    "\n",
    "    # Initialize a dictionary to count word frequency\n",
    "    counts = dict()\n",
    "\n",
    "    # Iterate through each line in the file\n",
    "    for line in handle:\n",
    "        words = line.split()\n",
    "        for word in words:\n",
    "            counts[word] = counts.get(word, 0) + 1\n",
    "\n",
    "    # Find the most common word\n",
    "    bigcount = None\n",
    "    bigword = None\n",
    "\n",
    "    for word, count in counts.items():\n",
    "        if bigcount is None or count > bigcount:\n",
    "            bigword = word\n",
    "            bigcount = count\n",
    "\n",
    "    # Print the most common word and its count\n",
    "    print(bigword, bigcount)\n",
    "\n",
    "except FileNotFoundError:\n",
    "    print(\"File not found:\", name)\n",
    "except Exception as e:\n",
    "    print(\"An error occurred:\", e)\n",
    " \n"
   ]
  },
  {
   "cell_type": "markdown",
   "id": "cf8e9ee0",
   "metadata": {},
   "source": [
    "# Sequential Steps"
   ]
  },
  {
   "cell_type": "code",
   "execution_count": 2,
   "id": "44b2d4f6",
   "metadata": {},
   "outputs": [
    {
     "name": "stdout",
     "output_type": "stream",
     "text": [
      "2\n",
      "4\n"
     ]
    }
   ],
   "source": [
    "#declaring a variable\n",
    "x=2\n",
    "#printing \n",
    "print(x)\n",
    "#adding\n",
    "x=x+2\n",
    "#printing\n",
    "print(x)\n",
    "\n"
   ]
  },
  {
   "cell_type": "markdown",
   "id": "c38fde7a",
   "metadata": {},
   "source": [
    "# Conditional Steps"
   ]
  },
  {
   "cell_type": "code",
   "execution_count": 9,
   "id": "dd071b48",
   "metadata": {},
   "outputs": [
    {
     "name": "stdout",
     "output_type": "stream",
     "text": [
      "Smaller\n",
      "Finish\n"
     ]
    }
   ],
   "source": [
    "# Declaring variable\n",
    "x = 5\n",
    "\n",
    "# Check if x is less than 10\n",
    "if x < 10:\n",
    "    # Printing\n",
    "    print('Smaller')\n",
    "\n",
    "# Check if x is greater than 20\n",
    "if x > 20:\n",
    "    # Printing output\n",
    "    print('Bigger')\n",
    "\n",
    "print('Finish')\n"
   ]
  },
  {
   "cell_type": "markdown",
   "id": "049141eb",
   "metadata": {},
   "source": [
    "# Repeated Steps"
   ]
  },
  {
   "cell_type": "code",
   "execution_count": 11,
   "id": "ee6e942a",
   "metadata": {},
   "outputs": [
    {
     "name": "stdout",
     "output_type": "stream",
     "text": [
      "5\n",
      "Blatsoff!\n"
     ]
    }
   ],
   "source": [
    "#declaring variable\n",
    "n=5\n",
    "#check if n is greater than 0\n",
    "if n > 0:\n",
    "#print output\n",
    "    print(n)\n",
    "#decrement value of n by 1    \n",
    "n=n-1    \n",
    "\n",
    "print('Blatsoff!')"
   ]
  },
  {
   "cell_type": "markdown",
   "id": "51e778ba",
   "metadata": {},
   "source": [
    "# Bigword,Bigcount"
   ]
  },
  {
   "cell_type": "code",
   "execution_count": 13,
   "id": "a893fd1c",
   "metadata": {},
   "outputs": [
    {
     "name": "stdout",
     "output_type": "stream",
     "text": [
      "Enter file: first\n",
      "File not found: first\n"
     ]
    }
   ],
   "source": [
    "# Get the name of the file from the user\n",
    "name = input('Enter file: ')\n",
    "\n",
    "try:\n",
    "    # Attempt to open the specified file in read mode ('r')\n",
    "    handle = open(name, 'r')\n",
    "\n",
    "    # Initialize a dictionary to count word frequency\n",
    "    counts = dict()\n",
    "\n",
    "    # Iterate through each line in the file\n",
    "    for line in handle:\n",
    "        # Split each line into words\n",
    "        words = line.split()\n",
    "\n",
    "        # Iterate through each word in the line\n",
    "        for word in words:\n",
    "            # Update the word count in the dictionary\n",
    "            counts[word] = counts.get(word, 0) + 1\n",
    "\n",
    "    # Find the most common word\n",
    "    bigcount = None\n",
    "    bigword = None\n",
    "\n",
    "    for word, count in counts.items():\n",
    "        if bigcount is None or count > bigcount:\n",
    "            bigword = word\n",
    "            bigcount = count\n",
    "\n",
    "    # Print the most common word and its count\n",
    "    print(\"Most common word:\", bigword)\n",
    "    print(\"Frequency:\", bigcount)\n",
    "\n",
    "except FileNotFoundError:\n",
    "    print(\"File not found:\", name)\n",
    "except Exception as e:\n",
    "    print(\"An error occurred:\", e)\n"
   ]
  }
 ],
 "metadata": {
  "kernelspec": {
   "display_name": "Python 3 (ipykernel)",
   "language": "python",
   "name": "python3"
  },
  "language_info": {
   "codemirror_mode": {
    "name": "ipython",
    "version": 3
   },
   "file_extension": ".py",
   "mimetype": "text/x-python",
   "name": "python",
   "nbconvert_exporter": "python",
   "pygments_lexer": "ipython3",
   "version": "3.11.4"
  }
 },
 "nbformat": 4,
 "nbformat_minor": 5
}
